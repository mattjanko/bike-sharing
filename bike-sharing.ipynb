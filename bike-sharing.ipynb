{
  "metadata": {
    "kernelspec": {
      "display_name": "Python 3",
      "name": "python3"
    },
    "language_info": {
      "name": "python",
      "version": "3.10.14",
      "mimetype": "text/x-python",
      "codemirror_mode": {
        "name": "ipython",
        "version": 3
      },
      "pygments_lexer": "ipython3",
      "nbconvert_exporter": "python",
      "file_extension": ".py"
    },
    "kaggle": {
      "accelerator": "none",
      "dataSources": [
        {
          "sourceId": 312329,
          "sourceType": "datasetVersion",
          "datasetId": 130897
        }
      ],
      "dockerImageVersionId": 30786,
      "isInternetEnabled": false,
      "language": "python",
      "sourceType": "notebook",
      "isGpuEnabled": false
    },
    "colab": {
      "provenance": []
    }
  },
  "nbformat_minor": 0,
  "nbformat": 4,
  "cells": [
    {
      "cell_type": "markdown",
      "source": [
        "# Introduction\n",
        "\n",
        "Depending on date, time, and whether, a certain bike sharing system in Washington, DC sees hundreds of riders per hour or none at all. For many practical reasons (e.g., ensuring sufficient bike availability, scheduling maintenance, etc.), we wish to be able to predict how many bikes rides will take place on a given date and at a given time. For this project, we will use data obtained from the UCI Machine Learning Repository.\n",
        "\n",
        "\n",
        "> **Citation**  \n",
        "> Fanaee-T, H. (2013). Bike Sharing [Dataset]. UCI Machine Learning Repository. https://doi.org/10.24432/C5W894.\n",
        "\n",
        "The dataset contains hourly counts of rides between 12:00 am on 2011-01-01 and 11:59 pm on 2012-12-31. We use this data to create three models for predicting bike usage. For our first model, we engineer Fourier features to detect yearly, weekly, and daily seasonality in bike riding. We then proceed to construct three models on the resulting feature set,\n",
        "\n",
        "1. a linear regression model,\n",
        "2. a random forest, and\n",
        "3. a model using `XGBoost`."
      ],
      "metadata": {
        "_uuid": "1cd8b9f7-9bbb-4854-93d6-1318487d24ee",
        "_cell_guid": "06588132-a025-44f3-8fa7-0d82983e136a",
        "trusted": true,
        "collapsed": false,
        "jupyter": {
          "outputs_hidden": false
        },
        "id": "ruPhCWiLARQ7"
      }
    },
    {
      "cell_type": "markdown",
      "source": [
        "# Setup and import\n",
        "\n",
        "The code below imports the packages we will use for this project along with the hourly ride data."
      ],
      "metadata": {
        "_uuid": "52b27210-a30a-4b52-938f-4dd7717476d3",
        "_cell_guid": "b901fe02-f211-4f58-8543-852cb3bb2940",
        "trusted": true,
        "collapsed": false,
        "jupyter": {
          "outputs_hidden": false
        },
        "id": "JPRJBXFCARQ8"
      }
    },
    {
      "cell_type": "code",
      "source": [
        "# import libraries and functions\n",
        "import numpy as np\n",
        "import pandas as pd\n",
        "from datetime import datetime\n",
        "from sklearn.model_selection import train_test_split\n",
        "import seaborn as sns\n",
        "import matplotlib.pyplot as plt\n",
        "import statsmodels.formula.api as smf\n",
        "import statsmodels.api as sm\n",
        "from sklearn.metrics import mean_squared_error\n",
        "from sklearn.ensemble import RandomForestRegressor\n",
        "from xgboost import XGBRegressor\n",
        "from sklearn.model_selection import cross_val_score, GridSearchCV\n",
        "\n",
        "#import data\n",
        "top_dir = \"https://raw.githubusercontent.com/mattjanko/\"\n",
        "filename = \"bike-sharing/refs/heads/main/hour.csv\"\n",
        "data = pd.read_csv(top_dir + filename)\n",
        "data"
      ],
      "metadata": {
        "_uuid": "109da9b9-825e-4e58-b849-a86c3b24b807",
        "_cell_guid": "d4bd6cfe-5c1a-4c48-a8d9-6f2c12376233",
        "trusted": true,
        "execution": {
          "iopub.status.busy": "2024-12-07T08:00:55.922083Z",
          "iopub.execute_input": "2024-12-07T08:00:55.922533Z",
          "iopub.status.idle": "2024-12-07T08:00:59.454055Z",
          "shell.execute_reply.started": "2024-12-07T08:00:55.922485Z",
          "shell.execute_reply": "2024-12-07T08:00:59.452904Z"
        },
        "jupyter": {
          "outputs_hidden": false
        },
        "colab": {
          "base_uri": "https://localhost:8080/",
          "height": 424
        },
        "id": "sMtJ9NL3ARQ8",
        "outputId": "b13295c4-8a08-4487-9e73-a2c66cf60abf"
      },
      "outputs": [
        {
          "output_type": "execute_result",
          "data": {
            "text/plain": [
              "       instant      dteday  season  yr  mnth  hr  holiday  weekday  \\\n",
              "0            1  2011-01-01       1   0     1   0        0        6   \n",
              "1            2  2011-01-01       1   0     1   1        0        6   \n",
              "2            3  2011-01-01       1   0     1   2        0        6   \n",
              "3            4  2011-01-01       1   0     1   3        0        6   \n",
              "4            5  2011-01-01       1   0     1   4        0        6   \n",
              "...        ...         ...     ...  ..   ...  ..      ...      ...   \n",
              "17374    17375  2012-12-31       1   1    12  19        0        1   \n",
              "17375    17376  2012-12-31       1   1    12  20        0        1   \n",
              "17376    17377  2012-12-31       1   1    12  21        0        1   \n",
              "17377    17378  2012-12-31       1   1    12  22        0        1   \n",
              "17378    17379  2012-12-31       1   1    12  23        0        1   \n",
              "\n",
              "       workingday  weathersit  temp   atemp   hum  windspeed  casual  \\\n",
              "0               0           1  0.24  0.2879  0.81     0.0000       3   \n",
              "1               0           1  0.22  0.2727  0.80     0.0000       8   \n",
              "2               0           1  0.22  0.2727  0.80     0.0000       5   \n",
              "3               0           1  0.24  0.2879  0.75     0.0000       3   \n",
              "4               0           1  0.24  0.2879  0.75     0.0000       0   \n",
              "...           ...         ...   ...     ...   ...        ...     ...   \n",
              "17374           1           2  0.26  0.2576  0.60     0.1642      11   \n",
              "17375           1           2  0.26  0.2576  0.60     0.1642       8   \n",
              "17376           1           1  0.26  0.2576  0.60     0.1642       7   \n",
              "17377           1           1  0.26  0.2727  0.56     0.1343      13   \n",
              "17378           1           1  0.26  0.2727  0.65     0.1343      12   \n",
              "\n",
              "       registered  cnt  \n",
              "0              13   16  \n",
              "1              32   40  \n",
              "2              27   32  \n",
              "3              10   13  \n",
              "4               1    1  \n",
              "...           ...  ...  \n",
              "17374         108  119  \n",
              "17375          81   89  \n",
              "17376          83   90  \n",
              "17377          48   61  \n",
              "17378          37   49  \n",
              "\n",
              "[17379 rows x 17 columns]"
            ],
            "text/html": [
              "\n",
              "  <div id=\"df-0b8494ff-7de7-45bd-9a66-aa6b31aaddf5\" class=\"colab-df-container\">\n",
              "    <div>\n",
              "<style scoped>\n",
              "    .dataframe tbody tr th:only-of-type {\n",
              "        vertical-align: middle;\n",
              "    }\n",
              "\n",
              "    .dataframe tbody tr th {\n",
              "        vertical-align: top;\n",
              "    }\n",
              "\n",
              "    .dataframe thead th {\n",
              "        text-align: right;\n",
              "    }\n",
              "</style>\n",
              "<table border=\"1\" class=\"dataframe\">\n",
              "  <thead>\n",
              "    <tr style=\"text-align: right;\">\n",
              "      <th></th>\n",
              "      <th>instant</th>\n",
              "      <th>dteday</th>\n",
              "      <th>season</th>\n",
              "      <th>yr</th>\n",
              "      <th>mnth</th>\n",
              "      <th>hr</th>\n",
              "      <th>holiday</th>\n",
              "      <th>weekday</th>\n",
              "      <th>workingday</th>\n",
              "      <th>weathersit</th>\n",
              "      <th>temp</th>\n",
              "      <th>atemp</th>\n",
              "      <th>hum</th>\n",
              "      <th>windspeed</th>\n",
              "      <th>casual</th>\n",
              "      <th>registered</th>\n",
              "      <th>cnt</th>\n",
              "    </tr>\n",
              "  </thead>\n",
              "  <tbody>\n",
              "    <tr>\n",
              "      <th>0</th>\n",
              "      <td>1</td>\n",
              "      <td>2011-01-01</td>\n",
              "      <td>1</td>\n",
              "      <td>0</td>\n",
              "      <td>1</td>\n",
              "      <td>0</td>\n",
              "      <td>0</td>\n",
              "      <td>6</td>\n",
              "      <td>0</td>\n",
              "      <td>1</td>\n",
              "      <td>0.24</td>\n",
              "      <td>0.2879</td>\n",
              "      <td>0.81</td>\n",
              "      <td>0.0000</td>\n",
              "      <td>3</td>\n",
              "      <td>13</td>\n",
              "      <td>16</td>\n",
              "    </tr>\n",
              "    <tr>\n",
              "      <th>1</th>\n",
              "      <td>2</td>\n",
              "      <td>2011-01-01</td>\n",
              "      <td>1</td>\n",
              "      <td>0</td>\n",
              "      <td>1</td>\n",
              "      <td>1</td>\n",
              "      <td>0</td>\n",
              "      <td>6</td>\n",
              "      <td>0</td>\n",
              "      <td>1</td>\n",
              "      <td>0.22</td>\n",
              "      <td>0.2727</td>\n",
              "      <td>0.80</td>\n",
              "      <td>0.0000</td>\n",
              "      <td>8</td>\n",
              "      <td>32</td>\n",
              "      <td>40</td>\n",
              "    </tr>\n",
              "    <tr>\n",
              "      <th>2</th>\n",
              "      <td>3</td>\n",
              "      <td>2011-01-01</td>\n",
              "      <td>1</td>\n",
              "      <td>0</td>\n",
              "      <td>1</td>\n",
              "      <td>2</td>\n",
              "      <td>0</td>\n",
              "      <td>6</td>\n",
              "      <td>0</td>\n",
              "      <td>1</td>\n",
              "      <td>0.22</td>\n",
              "      <td>0.2727</td>\n",
              "      <td>0.80</td>\n",
              "      <td>0.0000</td>\n",
              "      <td>5</td>\n",
              "      <td>27</td>\n",
              "      <td>32</td>\n",
              "    </tr>\n",
              "    <tr>\n",
              "      <th>3</th>\n",
              "      <td>4</td>\n",
              "      <td>2011-01-01</td>\n",
              "      <td>1</td>\n",
              "      <td>0</td>\n",
              "      <td>1</td>\n",
              "      <td>3</td>\n",
              "      <td>0</td>\n",
              "      <td>6</td>\n",
              "      <td>0</td>\n",
              "      <td>1</td>\n",
              "      <td>0.24</td>\n",
              "      <td>0.2879</td>\n",
              "      <td>0.75</td>\n",
              "      <td>0.0000</td>\n",
              "      <td>3</td>\n",
              "      <td>10</td>\n",
              "      <td>13</td>\n",
              "    </tr>\n",
              "    <tr>\n",
              "      <th>4</th>\n",
              "      <td>5</td>\n",
              "      <td>2011-01-01</td>\n",
              "      <td>1</td>\n",
              "      <td>0</td>\n",
              "      <td>1</td>\n",
              "      <td>4</td>\n",
              "      <td>0</td>\n",
              "      <td>6</td>\n",
              "      <td>0</td>\n",
              "      <td>1</td>\n",
              "      <td>0.24</td>\n",
              "      <td>0.2879</td>\n",
              "      <td>0.75</td>\n",
              "      <td>0.0000</td>\n",
              "      <td>0</td>\n",
              "      <td>1</td>\n",
              "      <td>1</td>\n",
              "    </tr>\n",
              "    <tr>\n",
              "      <th>...</th>\n",
              "      <td>...</td>\n",
              "      <td>...</td>\n",
              "      <td>...</td>\n",
              "      <td>...</td>\n",
              "      <td>...</td>\n",
              "      <td>...</td>\n",
              "      <td>...</td>\n",
              "      <td>...</td>\n",
              "      <td>...</td>\n",
              "      <td>...</td>\n",
              "      <td>...</td>\n",
              "      <td>...</td>\n",
              "      <td>...</td>\n",
              "      <td>...</td>\n",
              "      <td>...</td>\n",
              "      <td>...</td>\n",
              "      <td>...</td>\n",
              "    </tr>\n",
              "    <tr>\n",
              "      <th>17374</th>\n",
              "      <td>17375</td>\n",
              "      <td>2012-12-31</td>\n",
              "      <td>1</td>\n",
              "      <td>1</td>\n",
              "      <td>12</td>\n",
              "      <td>19</td>\n",
              "      <td>0</td>\n",
              "      <td>1</td>\n",
              "      <td>1</td>\n",
              "      <td>2</td>\n",
              "      <td>0.26</td>\n",
              "      <td>0.2576</td>\n",
              "      <td>0.60</td>\n",
              "      <td>0.1642</td>\n",
              "      <td>11</td>\n",
              "      <td>108</td>\n",
              "      <td>119</td>\n",
              "    </tr>\n",
              "    <tr>\n",
              "      <th>17375</th>\n",
              "      <td>17376</td>\n",
              "      <td>2012-12-31</td>\n",
              "      <td>1</td>\n",
              "      <td>1</td>\n",
              "      <td>12</td>\n",
              "      <td>20</td>\n",
              "      <td>0</td>\n",
              "      <td>1</td>\n",
              "      <td>1</td>\n",
              "      <td>2</td>\n",
              "      <td>0.26</td>\n",
              "      <td>0.2576</td>\n",
              "      <td>0.60</td>\n",
              "      <td>0.1642</td>\n",
              "      <td>8</td>\n",
              "      <td>81</td>\n",
              "      <td>89</td>\n",
              "    </tr>\n",
              "    <tr>\n",
              "      <th>17376</th>\n",
              "      <td>17377</td>\n",
              "      <td>2012-12-31</td>\n",
              "      <td>1</td>\n",
              "      <td>1</td>\n",
              "      <td>12</td>\n",
              "      <td>21</td>\n",
              "      <td>0</td>\n",
              "      <td>1</td>\n",
              "      <td>1</td>\n",
              "      <td>1</td>\n",
              "      <td>0.26</td>\n",
              "      <td>0.2576</td>\n",
              "      <td>0.60</td>\n",
              "      <td>0.1642</td>\n",
              "      <td>7</td>\n",
              "      <td>83</td>\n",
              "      <td>90</td>\n",
              "    </tr>\n",
              "    <tr>\n",
              "      <th>17377</th>\n",
              "      <td>17378</td>\n",
              "      <td>2012-12-31</td>\n",
              "      <td>1</td>\n",
              "      <td>1</td>\n",
              "      <td>12</td>\n",
              "      <td>22</td>\n",
              "      <td>0</td>\n",
              "      <td>1</td>\n",
              "      <td>1</td>\n",
              "      <td>1</td>\n",
              "      <td>0.26</td>\n",
              "      <td>0.2727</td>\n",
              "      <td>0.56</td>\n",
              "      <td>0.1343</td>\n",
              "      <td>13</td>\n",
              "      <td>48</td>\n",
              "      <td>61</td>\n",
              "    </tr>\n",
              "    <tr>\n",
              "      <th>17378</th>\n",
              "      <td>17379</td>\n",
              "      <td>2012-12-31</td>\n",
              "      <td>1</td>\n",
              "      <td>1</td>\n",
              "      <td>12</td>\n",
              "      <td>23</td>\n",
              "      <td>0</td>\n",
              "      <td>1</td>\n",
              "      <td>1</td>\n",
              "      <td>1</td>\n",
              "      <td>0.26</td>\n",
              "      <td>0.2727</td>\n",
              "      <td>0.65</td>\n",
              "      <td>0.1343</td>\n",
              "      <td>12</td>\n",
              "      <td>37</td>\n",
              "      <td>49</td>\n",
              "    </tr>\n",
              "  </tbody>\n",
              "</table>\n",
              "<p>17379 rows × 17 columns</p>\n",
              "</div>\n",
              "    <div class=\"colab-df-buttons\">\n",
              "\n",
              "  <div class=\"colab-df-container\">\n",
              "    <button class=\"colab-df-convert\" onclick=\"convertToInteractive('df-0b8494ff-7de7-45bd-9a66-aa6b31aaddf5')\"\n",
              "            title=\"Convert this dataframe to an interactive table.\"\n",
              "            style=\"display:none;\">\n",
              "\n",
              "  <svg xmlns=\"http://www.w3.org/2000/svg\" height=\"24px\" viewBox=\"0 -960 960 960\">\n",
              "    <path d=\"M120-120v-720h720v720H120Zm60-500h600v-160H180v160Zm220 220h160v-160H400v160Zm0 220h160v-160H400v160ZM180-400h160v-160H180v160Zm440 0h160v-160H620v160ZM180-180h160v-160H180v160Zm440 0h160v-160H620v160Z\"/>\n",
              "  </svg>\n",
              "    </button>\n",
              "\n",
              "  <style>\n",
              "    .colab-df-container {\n",
              "      display:flex;\n",
              "      gap: 12px;\n",
              "    }\n",
              "\n",
              "    .colab-df-convert {\n",
              "      background-color: #E8F0FE;\n",
              "      border: none;\n",
              "      border-radius: 50%;\n",
              "      cursor: pointer;\n",
              "      display: none;\n",
              "      fill: #1967D2;\n",
              "      height: 32px;\n",
              "      padding: 0 0 0 0;\n",
              "      width: 32px;\n",
              "    }\n",
              "\n",
              "    .colab-df-convert:hover {\n",
              "      background-color: #E2EBFA;\n",
              "      box-shadow: 0px 1px 2px rgba(60, 64, 67, 0.3), 0px 1px 3px 1px rgba(60, 64, 67, 0.15);\n",
              "      fill: #174EA6;\n",
              "    }\n",
              "\n",
              "    .colab-df-buttons div {\n",
              "      margin-bottom: 4px;\n",
              "    }\n",
              "\n",
              "    [theme=dark] .colab-df-convert {\n",
              "      background-color: #3B4455;\n",
              "      fill: #D2E3FC;\n",
              "    }\n",
              "\n",
              "    [theme=dark] .colab-df-convert:hover {\n",
              "      background-color: #434B5C;\n",
              "      box-shadow: 0px 1px 3px 1px rgba(0, 0, 0, 0.15);\n",
              "      filter: drop-shadow(0px 1px 2px rgba(0, 0, 0, 0.3));\n",
              "      fill: #FFFFFF;\n",
              "    }\n",
              "  </style>\n",
              "\n",
              "    <script>\n",
              "      const buttonEl =\n",
              "        document.querySelector('#df-0b8494ff-7de7-45bd-9a66-aa6b31aaddf5 button.colab-df-convert');\n",
              "      buttonEl.style.display =\n",
              "        google.colab.kernel.accessAllowed ? 'block' : 'none';\n",
              "\n",
              "      async function convertToInteractive(key) {\n",
              "        const element = document.querySelector('#df-0b8494ff-7de7-45bd-9a66-aa6b31aaddf5');\n",
              "        const dataTable =\n",
              "          await google.colab.kernel.invokeFunction('convertToInteractive',\n",
              "                                                    [key], {});\n",
              "        if (!dataTable) return;\n",
              "\n",
              "        const docLinkHtml = 'Like what you see? Visit the ' +\n",
              "          '<a target=\"_blank\" href=https://colab.research.google.com/notebooks/data_table.ipynb>data table notebook</a>'\n",
              "          + ' to learn more about interactive tables.';\n",
              "        element.innerHTML = '';\n",
              "        dataTable['output_type'] = 'display_data';\n",
              "        await google.colab.output.renderOutput(dataTable, element);\n",
              "        const docLink = document.createElement('div');\n",
              "        docLink.innerHTML = docLinkHtml;\n",
              "        element.appendChild(docLink);\n",
              "      }\n",
              "    </script>\n",
              "  </div>\n",
              "\n",
              "\n",
              "<div id=\"df-40cb709f-41a6-442a-ae9f-e1f3589c39d2\">\n",
              "  <button class=\"colab-df-quickchart\" onclick=\"quickchart('df-40cb709f-41a6-442a-ae9f-e1f3589c39d2')\"\n",
              "            title=\"Suggest charts\"\n",
              "            style=\"display:none;\">\n",
              "\n",
              "<svg xmlns=\"http://www.w3.org/2000/svg\" height=\"24px\"viewBox=\"0 0 24 24\"\n",
              "     width=\"24px\">\n",
              "    <g>\n",
              "        <path d=\"M19 3H5c-1.1 0-2 .9-2 2v14c0 1.1.9 2 2 2h14c1.1 0 2-.9 2-2V5c0-1.1-.9-2-2-2zM9 17H7v-7h2v7zm4 0h-2V7h2v10zm4 0h-2v-4h2v4z\"/>\n",
              "    </g>\n",
              "</svg>\n",
              "  </button>\n",
              "\n",
              "<style>\n",
              "  .colab-df-quickchart {\n",
              "      --bg-color: #E8F0FE;\n",
              "      --fill-color: #1967D2;\n",
              "      --hover-bg-color: #E2EBFA;\n",
              "      --hover-fill-color: #174EA6;\n",
              "      --disabled-fill-color: #AAA;\n",
              "      --disabled-bg-color: #DDD;\n",
              "  }\n",
              "\n",
              "  [theme=dark] .colab-df-quickchart {\n",
              "      --bg-color: #3B4455;\n",
              "      --fill-color: #D2E3FC;\n",
              "      --hover-bg-color: #434B5C;\n",
              "      --hover-fill-color: #FFFFFF;\n",
              "      --disabled-bg-color: #3B4455;\n",
              "      --disabled-fill-color: #666;\n",
              "  }\n",
              "\n",
              "  .colab-df-quickchart {\n",
              "    background-color: var(--bg-color);\n",
              "    border: none;\n",
              "    border-radius: 50%;\n",
              "    cursor: pointer;\n",
              "    display: none;\n",
              "    fill: var(--fill-color);\n",
              "    height: 32px;\n",
              "    padding: 0;\n",
              "    width: 32px;\n",
              "  }\n",
              "\n",
              "  .colab-df-quickchart:hover {\n",
              "    background-color: var(--hover-bg-color);\n",
              "    box-shadow: 0 1px 2px rgba(60, 64, 67, 0.3), 0 1px 3px 1px rgba(60, 64, 67, 0.15);\n",
              "    fill: var(--button-hover-fill-color);\n",
              "  }\n",
              "\n",
              "  .colab-df-quickchart-complete:disabled,\n",
              "  .colab-df-quickchart-complete:disabled:hover {\n",
              "    background-color: var(--disabled-bg-color);\n",
              "    fill: var(--disabled-fill-color);\n",
              "    box-shadow: none;\n",
              "  }\n",
              "\n",
              "  .colab-df-spinner {\n",
              "    border: 2px solid var(--fill-color);\n",
              "    border-color: transparent;\n",
              "    border-bottom-color: var(--fill-color);\n",
              "    animation:\n",
              "      spin 1s steps(1) infinite;\n",
              "  }\n",
              "\n",
              "  @keyframes spin {\n",
              "    0% {\n",
              "      border-color: transparent;\n",
              "      border-bottom-color: var(--fill-color);\n",
              "      border-left-color: var(--fill-color);\n",
              "    }\n",
              "    20% {\n",
              "      border-color: transparent;\n",
              "      border-left-color: var(--fill-color);\n",
              "      border-top-color: var(--fill-color);\n",
              "    }\n",
              "    30% {\n",
              "      border-color: transparent;\n",
              "      border-left-color: var(--fill-color);\n",
              "      border-top-color: var(--fill-color);\n",
              "      border-right-color: var(--fill-color);\n",
              "    }\n",
              "    40% {\n",
              "      border-color: transparent;\n",
              "      border-right-color: var(--fill-color);\n",
              "      border-top-color: var(--fill-color);\n",
              "    }\n",
              "    60% {\n",
              "      border-color: transparent;\n",
              "      border-right-color: var(--fill-color);\n",
              "    }\n",
              "    80% {\n",
              "      border-color: transparent;\n",
              "      border-right-color: var(--fill-color);\n",
              "      border-bottom-color: var(--fill-color);\n",
              "    }\n",
              "    90% {\n",
              "      border-color: transparent;\n",
              "      border-bottom-color: var(--fill-color);\n",
              "    }\n",
              "  }\n",
              "</style>\n",
              "\n",
              "  <script>\n",
              "    async function quickchart(key) {\n",
              "      const quickchartButtonEl =\n",
              "        document.querySelector('#' + key + ' button');\n",
              "      quickchartButtonEl.disabled = true;  // To prevent multiple clicks.\n",
              "      quickchartButtonEl.classList.add('colab-df-spinner');\n",
              "      try {\n",
              "        const charts = await google.colab.kernel.invokeFunction(\n",
              "            'suggestCharts', [key], {});\n",
              "      } catch (error) {\n",
              "        console.error('Error during call to suggestCharts:', error);\n",
              "      }\n",
              "      quickchartButtonEl.classList.remove('colab-df-spinner');\n",
              "      quickchartButtonEl.classList.add('colab-df-quickchart-complete');\n",
              "    }\n",
              "    (() => {\n",
              "      let quickchartButtonEl =\n",
              "        document.querySelector('#df-40cb709f-41a6-442a-ae9f-e1f3589c39d2 button');\n",
              "      quickchartButtonEl.style.display =\n",
              "        google.colab.kernel.accessAllowed ? 'block' : 'none';\n",
              "    })();\n",
              "  </script>\n",
              "</div>\n",
              "\n",
              "  <div id=\"id_ac3df84e-e12a-4141-8498-bada2b3acbac\">\n",
              "    <style>\n",
              "      .colab-df-generate {\n",
              "        background-color: #E8F0FE;\n",
              "        border: none;\n",
              "        border-radius: 50%;\n",
              "        cursor: pointer;\n",
              "        display: none;\n",
              "        fill: #1967D2;\n",
              "        height: 32px;\n",
              "        padding: 0 0 0 0;\n",
              "        width: 32px;\n",
              "      }\n",
              "\n",
              "      .colab-df-generate:hover {\n",
              "        background-color: #E2EBFA;\n",
              "        box-shadow: 0px 1px 2px rgba(60, 64, 67, 0.3), 0px 1px 3px 1px rgba(60, 64, 67, 0.15);\n",
              "        fill: #174EA6;\n",
              "      }\n",
              "\n",
              "      [theme=dark] .colab-df-generate {\n",
              "        background-color: #3B4455;\n",
              "        fill: #D2E3FC;\n",
              "      }\n",
              "\n",
              "      [theme=dark] .colab-df-generate:hover {\n",
              "        background-color: #434B5C;\n",
              "        box-shadow: 0px 1px 3px 1px rgba(0, 0, 0, 0.15);\n",
              "        filter: drop-shadow(0px 1px 2px rgba(0, 0, 0, 0.3));\n",
              "        fill: #FFFFFF;\n",
              "      }\n",
              "    </style>\n",
              "    <button class=\"colab-df-generate\" onclick=\"generateWithVariable('data')\"\n",
              "            title=\"Generate code using this dataframe.\"\n",
              "            style=\"display:none;\">\n",
              "\n",
              "  <svg xmlns=\"http://www.w3.org/2000/svg\" height=\"24px\"viewBox=\"0 0 24 24\"\n",
              "       width=\"24px\">\n",
              "    <path d=\"M7,19H8.4L18.45,9,17,7.55,7,17.6ZM5,21V16.75L18.45,3.32a2,2,0,0,1,2.83,0l1.4,1.43a1.91,1.91,0,0,1,.58,1.4,1.91,1.91,0,0,1-.58,1.4L9.25,21ZM18.45,9,17,7.55Zm-12,3A5.31,5.31,0,0,0,4.9,8.1,5.31,5.31,0,0,0,1,6.5,5.31,5.31,0,0,0,4.9,4.9,5.31,5.31,0,0,0,6.5,1,5.31,5.31,0,0,0,8.1,4.9,5.31,5.31,0,0,0,12,6.5,5.46,5.46,0,0,0,6.5,12Z\"/>\n",
              "  </svg>\n",
              "    </button>\n",
              "    <script>\n",
              "      (() => {\n",
              "      const buttonEl =\n",
              "        document.querySelector('#id_ac3df84e-e12a-4141-8498-bada2b3acbac button.colab-df-generate');\n",
              "      buttonEl.style.display =\n",
              "        google.colab.kernel.accessAllowed ? 'block' : 'none';\n",
              "\n",
              "      buttonEl.onclick = () => {\n",
              "        google.colab.notebook.generateWithVariable('data');\n",
              "      }\n",
              "      })();\n",
              "    </script>\n",
              "  </div>\n",
              "\n",
              "    </div>\n",
              "  </div>\n"
            ],
            "application/vnd.google.colaboratory.intrinsic+json": {
              "type": "dataframe",
              "variable_name": "data",
              "summary": "{\n  \"name\": \"data\",\n  \"rows\": 17379,\n  \"fields\": [\n    {\n      \"column\": \"instant\",\n      \"properties\": {\n        \"dtype\": \"number\",\n        \"std\": 5017,\n        \"min\": 1,\n        \"max\": 17379,\n        \"num_unique_values\": 17379,\n        \"samples\": [\n          12831,\n          8689,\n          7092\n        ],\n        \"semantic_type\": \"\",\n        \"description\": \"\"\n      }\n    },\n    {\n      \"column\": \"dteday\",\n      \"properties\": {\n        \"dtype\": \"object\",\n        \"num_unique_values\": 731,\n        \"samples\": [\n          \"2012-12-04\",\n          \"2011-02-03\",\n          \"2011-10-28\"\n        ],\n        \"semantic_type\": \"\",\n        \"description\": \"\"\n      }\n    },\n    {\n      \"column\": \"season\",\n      \"properties\": {\n        \"dtype\": \"number\",\n        \"std\": 1,\n        \"min\": 1,\n        \"max\": 4,\n        \"num_unique_values\": 4,\n        \"samples\": [\n          2,\n          4,\n          1\n        ],\n        \"semantic_type\": \"\",\n        \"description\": \"\"\n      }\n    },\n    {\n      \"column\": \"yr\",\n      \"properties\": {\n        \"dtype\": \"number\",\n        \"std\": 0,\n        \"min\": 0,\n        \"max\": 1,\n        \"num_unique_values\": 2,\n        \"samples\": [\n          1,\n          0\n        ],\n        \"semantic_type\": \"\",\n        \"description\": \"\"\n      }\n    },\n    {\n      \"column\": \"mnth\",\n      \"properties\": {\n        \"dtype\": \"number\",\n        \"std\": 3,\n        \"min\": 1,\n        \"max\": 12,\n        \"num_unique_values\": 12,\n        \"samples\": [\n          11,\n          10\n        ],\n        \"semantic_type\": \"\",\n        \"description\": \"\"\n      }\n    },\n    {\n      \"column\": \"hr\",\n      \"properties\": {\n        \"dtype\": \"number\",\n        \"std\": 6,\n        \"min\": 0,\n        \"max\": 23,\n        \"num_unique_values\": 24,\n        \"samples\": [\n          8,\n          16\n        ],\n        \"semantic_type\": \"\",\n        \"description\": \"\"\n      }\n    },\n    {\n      \"column\": \"holiday\",\n      \"properties\": {\n        \"dtype\": \"number\",\n        \"std\": 0,\n        \"min\": 0,\n        \"max\": 1,\n        \"num_unique_values\": 2,\n        \"samples\": [\n          1,\n          0\n        ],\n        \"semantic_type\": \"\",\n        \"description\": \"\"\n      }\n    },\n    {\n      \"column\": \"weekday\",\n      \"properties\": {\n        \"dtype\": \"number\",\n        \"std\": 2,\n        \"min\": 0,\n        \"max\": 6,\n        \"num_unique_values\": 7,\n        \"samples\": [\n          6,\n          0\n        ],\n        \"semantic_type\": \"\",\n        \"description\": \"\"\n      }\n    },\n    {\n      \"column\": \"workingday\",\n      \"properties\": {\n        \"dtype\": \"number\",\n        \"std\": 0,\n        \"min\": 0,\n        \"max\": 1,\n        \"num_unique_values\": 2,\n        \"samples\": [\n          1,\n          0\n        ],\n        \"semantic_type\": \"\",\n        \"description\": \"\"\n      }\n    },\n    {\n      \"column\": \"weathersit\",\n      \"properties\": {\n        \"dtype\": \"number\",\n        \"std\": 0,\n        \"min\": 1,\n        \"max\": 4,\n        \"num_unique_values\": 4,\n        \"samples\": [\n          2,\n          4\n        ],\n        \"semantic_type\": \"\",\n        \"description\": \"\"\n      }\n    },\n    {\n      \"column\": \"temp\",\n      \"properties\": {\n        \"dtype\": \"number\",\n        \"std\": 0.19255612124972407,\n        \"min\": 0.02,\n        \"max\": 1.0,\n        \"num_unique_values\": 50,\n        \"samples\": [\n          0.16,\n          0.82\n        ],\n        \"semantic_type\": \"\",\n        \"description\": \"\"\n      }\n    },\n    {\n      \"column\": \"atemp\",\n      \"properties\": {\n        \"dtype\": \"number\",\n        \"std\": 0.17185021563536587,\n        \"min\": 0.0,\n        \"max\": 1.0,\n        \"num_unique_values\": 65,\n        \"samples\": [\n          0.7879,\n          0.9242\n        ],\n        \"semantic_type\": \"\",\n        \"description\": \"\"\n      }\n    },\n    {\n      \"column\": \"hum\",\n      \"properties\": {\n        \"dtype\": \"number\",\n        \"std\": 0.1929298340629125,\n        \"min\": 0.0,\n        \"max\": 1.0,\n        \"num_unique_values\": 89,\n        \"samples\": [\n          0.29,\n          0.61\n        ],\n        \"semantic_type\": \"\",\n        \"description\": \"\"\n      }\n    },\n    {\n      \"column\": \"windspeed\",\n      \"properties\": {\n        \"dtype\": \"number\",\n        \"std\": 0.12234022857279413,\n        \"min\": 0.0,\n        \"max\": 0.8507,\n        \"num_unique_values\": 30,\n        \"samples\": [\n          0.8507,\n          0.4925\n        ],\n        \"semantic_type\": \"\",\n        \"description\": \"\"\n      }\n    },\n    {\n      \"column\": \"casual\",\n      \"properties\": {\n        \"dtype\": \"number\",\n        \"std\": 49,\n        \"min\": 0,\n        \"max\": 367,\n        \"num_unique_values\": 322,\n        \"samples\": [\n          201,\n          171\n        ],\n        \"semantic_type\": \"\",\n        \"description\": \"\"\n      }\n    },\n    {\n      \"column\": \"registered\",\n      \"properties\": {\n        \"dtype\": \"number\",\n        \"std\": 151,\n        \"min\": 0,\n        \"max\": 886,\n        \"num_unique_values\": 776,\n        \"samples\": [\n          342,\n          744\n        ],\n        \"semantic_type\": \"\",\n        \"description\": \"\"\n      }\n    },\n    {\n      \"column\": \"cnt\",\n      \"properties\": {\n        \"dtype\": \"number\",\n        \"std\": 181,\n        \"min\": 1,\n        \"max\": 977,\n        \"num_unique_values\": 869,\n        \"samples\": [\n          594,\n          46\n        ],\n        \"semantic_type\": \"\",\n        \"description\": \"\"\n      }\n    }\n  ]\n}"
            }
          },
          "metadata": {},
          "execution_count": 1
        }
      ],
      "execution_count": 1
    },
    {
      "cell_type": "code",
      "source": [
        "data.isna().sum().sum()"
      ],
      "metadata": {
        "colab": {
          "base_uri": "https://localhost:8080/"
        },
        "id": "_0HXl7-0FPFI",
        "outputId": "f8058c00-4d3a-451d-dc14-b9988586ec8a"
      },
      "execution_count": 2,
      "outputs": [
        {
          "output_type": "execute_result",
          "data": {
            "text/plain": [
              "0"
            ]
          },
          "metadata": {},
          "execution_count": 2
        }
      ]
    },
    {
      "cell_type": "markdown",
      "source": [
        "We see that the data includes 17379 rows and 17 columns. None of the rows contain NA values, which will simplify the data cleaning process. The UCI website provides documentation explaining a few columns whose meanings are unclear:\n",
        "\n",
        "* `holiday` is an indicator variable for holidays,\n",
        "* `weekday` indicates the day of the week (with 0 represenenting Sunday),\n",
        "* `workingday` is an indicator for days that are not holidays or weekends,\n",
        "* `weathersit` is an ordinal variable representing the amount of precipitation,\n",
        "* `atemp` is the \"feel-like\" temperature,\n",
        "* `hum` is humidity,\n",
        "* `casual` is the number of non-registered users renting bikes,\n",
        "* `registered` is the number of registered users renting bikes, and\n",
        "* `cnt` is the number of bike rides taken."
      ],
      "metadata": {
        "id": "hiEaE4sAEEe_"
      }
    },
    {
      "cell_type": "markdown",
      "source": [
        "# Data cleaning\n",
        "\n",
        "The target variable is `cnt`, the total number of rides per hour. A few facts stand out upon a preliminary inspection of the data. First, `cnt` is always the sum of `casual` and `registered`. This is because the latter two features record subcounts of non-registered and registered users of the bike sharing system. Including these features would introduce data leakage into the modeling process, so those features can be removed before proceeding further."
      ],
      "metadata": {
        "_uuid": "e146f778-eb75-489f-9d50-d88959aa774c",
        "_cell_guid": "6fee0238-cf3a-486f-9432-dfcc74d2e51d",
        "trusted": true,
        "collapsed": false,
        "jupyter": {
          "outputs_hidden": false
        },
        "id": "vnDwhfIvARQ8"
      }
    },
    {
      "cell_type": "code",
      "source": [
        "data = data.drop([\"casual\", \"registered\"], axis = 1)"
      ],
      "metadata": {
        "_uuid": "a0365cf1-030c-46a9-8ed5-c84118088cfb",
        "_cell_guid": "77b6b460-1bf9-4c4d-9a11-27f1bcff409e",
        "trusted": true,
        "execution": {
          "iopub.status.busy": "2024-12-07T08:00:59.456304Z",
          "iopub.execute_input": "2024-12-07T08:00:59.456634Z",
          "iopub.status.idle": "2024-12-07T08:00:59.468634Z",
          "shell.execute_reply.started": "2024-12-07T08:00:59.456603Z",
          "shell.execute_reply": "2024-12-07T08:00:59.467427Z"
        },
        "jupyter": {
          "outputs_hidden": false
        },
        "id": "lVaHSQ0rARQ9"
      },
      "outputs": [],
      "execution_count": 3
    },
    {
      "cell_type": "markdown",
      "source": [
        "Next, notice that `dteday` is partly redundant because it contains strings representing the same information contained in `yr` and `mnth`. The following code extracts from `dteday` a columns representing day of the year and then deletes `dteday`."
      ],
      "metadata": {
        "_uuid": "59f2ae05-de1d-4d4b-a5cb-dffaa2801ea7",
        "_cell_guid": "2292b567-4a8f-442b-b42b-8e70907fb161",
        "trusted": true,
        "collapsed": false,
        "jupyter": {
          "outputs_hidden": false
        },
        "id": "kygL5_iXARQ9"
      }
    },
    {
      "cell_type": "code",
      "source": [
        "data[\"dteday\"] = data[\"dteday\"].apply(\n",
        "    lambda x: datetime.strptime(x, \"%Y-%m-%d\")\n",
        ")\n",
        "data[\"day\"] = data[\"dteday\"].apply(\n",
        "    lambda x: int(x.strftime(\"%d\"))\n",
        ")\n",
        "data[\"dayofyr\"] = data[\"dteday\"].apply(\n",
        "    lambda x: int(x.strftime(\"%-j\"))\n",
        ")\n",
        "data = data.drop(\"dteday\", axis = 1)"
      ],
      "metadata": {
        "_uuid": "5a5ff127-61ee-416f-bcdc-a0d28fb856db",
        "_cell_guid": "1ba26710-dbef-4e84-90fb-a54e5d88e7ae",
        "trusted": true,
        "execution": {
          "iopub.status.busy": "2024-12-07T08:00:59.470173Z",
          "iopub.execute_input": "2024-12-07T08:00:59.470599Z",
          "iopub.status.idle": "2024-12-07T08:00:59.790865Z",
          "shell.execute_reply.started": "2024-12-07T08:00:59.470565Z",
          "shell.execute_reply": "2024-12-07T08:00:59.789691Z"
        },
        "jupyter": {
          "outputs_hidden": false
        },
        "id": "r3I1ON4YARQ9"
      },
      "outputs": [],
      "execution_count": 4
    },
    {
      "cell_type": "markdown",
      "source": [
        "Finally, a handful of hours are missing from our data set. This is apparent because there are consecutive rows between which `instant` (an index variable) increases by 1 but `hr` increases by more than 1 modulo 24."
      ],
      "metadata": {
        "_uuid": "684bb0a6-c94c-4a02-bc26-1b868e60b778",
        "_cell_guid": "83706330-08f0-46c5-9494-f3a0a98593fb",
        "trusted": true,
        "collapsed": false,
        "jupyter": {
          "outputs_hidden": false
        },
        "id": "FBLIfMnWARQ9"
      }
    },
    {
      "cell_type": "code",
      "source": [
        "nc1 = data[data[\"instant\"] - data[\"instant\"].shift(1) != 1].shape[0]\n",
        "nc2 = data[data[\"hr\"] - data[\"hr\"].shift(1) != 1].shape[0]\n",
        "print(f\"nonconsecutive entries in 'instant':{nc1 - 1}\")\n",
        "print(f\"nonconsecutive entries in 'hr':{nc2 - 1}\")"
      ],
      "metadata": {
        "_uuid": "8e250e17-b3c3-4cd2-8783-1f6e190452a2",
        "_cell_guid": "63fdb7ad-9022-4ba7-96da-db9576e40bf9",
        "trusted": true,
        "execution": {
          "iopub.status.busy": "2024-12-07T08:00:59.792868Z",
          "iopub.execute_input": "2024-12-07T08:00:59.793338Z",
          "iopub.status.idle": "2024-12-07T08:00:59.805472Z",
          "shell.execute_reply.started": "2024-12-07T08:00:59.793290Z",
          "shell.execute_reply": "2024-12-07T08:00:59.804100Z"
        },
        "jupyter": {
          "outputs_hidden": false
        },
        "colab": {
          "base_uri": "https://localhost:8080/"
        },
        "id": "w96WIsu9ARQ9",
        "outputId": "44da04a4-f435-497d-f663-4ce132cb8e4e"
      },
      "outputs": [
        {
          "output_type": "stream",
          "name": "stdout",
          "text": [
            "nonconsecutive entries in 'instant':0\n",
            "nonconsecutive entries in 'hr':800\n"
          ]
        }
      ],
      "execution_count": 5
    },
    {
      "cell_type": "markdown",
      "source": [
        "A time dummy might be a useful feature. The following code normalizes `instant` to represent time in years since 12:00 am on January 1, 2011."
      ],
      "metadata": {
        "_uuid": "89fdeb69-bf04-4a27-a0c7-d2b60a52517e",
        "_cell_guid": "383d0b7b-ae99-4d88-9d2b-1ae0c78d269b",
        "trusted": true,
        "collapsed": false,
        "jupyter": {
          "outputs_hidden": false
        },
        "id": "SbpePcSSARQ9"
      }
    },
    {
      "cell_type": "code",
      "source": [
        "data[\"instant\"] = (data[\"yr\"] == 1)*365*24 + (data[\"dayofyr\"] - 1)*24 + data[\"hr\"]\n",
        "data[\"instant\"] = data[\"instant\"]/(365*24)"
      ],
      "metadata": {
        "_uuid": "7101cd12-cd67-49dc-80cf-27b01c5b17ca",
        "_cell_guid": "e838444f-f86c-4b8d-afcb-e0fd80cb3472",
        "trusted": true,
        "execution": {
          "iopub.status.busy": "2024-12-07T08:00:59.806722Z",
          "iopub.execute_input": "2024-12-07T08:00:59.807036Z",
          "iopub.status.idle": "2024-12-07T08:00:59.820331Z",
          "shell.execute_reply.started": "2024-12-07T08:00:59.807007Z",
          "shell.execute_reply": "2024-12-07T08:00:59.818769Z"
        },
        "jupyter": {
          "outputs_hidden": false
        },
        "id": "be8rePSwARQ9"
      },
      "outputs": [],
      "execution_count": 6
    },
    {
      "cell_type": "code",
      "source": [
        "data.head()"
      ],
      "metadata": {
        "_uuid": "22ef1cc6-1eb1-4483-bfdf-df39cb1998aa",
        "_cell_guid": "65a41f61-ceab-43ff-8d38-9ee4f572b805",
        "trusted": true,
        "execution": {
          "iopub.status.busy": "2024-12-07T08:00:59.821848Z",
          "iopub.execute_input": "2024-12-07T08:00:59.822166Z",
          "iopub.status.idle": "2024-12-07T08:00:59.842038Z",
          "shell.execute_reply.started": "2024-12-07T08:00:59.822137Z",
          "shell.execute_reply": "2024-12-07T08:00:59.840829Z"
        },
        "jupyter": {
          "outputs_hidden": false
        },
        "colab": {
          "base_uri": "https://localhost:8080/",
          "height": 206
        },
        "id": "9CjgstIrARQ9",
        "outputId": "211f5cce-68ff-47fe-8235-614b55f0475d"
      },
      "outputs": [
        {
          "output_type": "execute_result",
          "data": {
            "text/plain": [
              "    instant  season  yr  mnth  hr  holiday  weekday  workingday  weathersit  \\\n",
              "0  0.000000       1   0     1   0        0        6           0           1   \n",
              "1  0.000114       1   0     1   1        0        6           0           1   \n",
              "2  0.000228       1   0     1   2        0        6           0           1   \n",
              "3  0.000342       1   0     1   3        0        6           0           1   \n",
              "4  0.000457       1   0     1   4        0        6           0           1   \n",
              "\n",
              "   temp   atemp   hum  windspeed  cnt  day  dayofyr  \n",
              "0  0.24  0.2879  0.81        0.0   16    1        1  \n",
              "1  0.22  0.2727  0.80        0.0   40    1        1  \n",
              "2  0.22  0.2727  0.80        0.0   32    1        1  \n",
              "3  0.24  0.2879  0.75        0.0   13    1        1  \n",
              "4  0.24  0.2879  0.75        0.0    1    1        1  "
            ],
            "text/html": [
              "\n",
              "  <div id=\"df-a4a43a6f-5d84-4272-908d-d6c79ec451ae\" class=\"colab-df-container\">\n",
              "    <div>\n",
              "<style scoped>\n",
              "    .dataframe tbody tr th:only-of-type {\n",
              "        vertical-align: middle;\n",
              "    }\n",
              "\n",
              "    .dataframe tbody tr th {\n",
              "        vertical-align: top;\n",
              "    }\n",
              "\n",
              "    .dataframe thead th {\n",
              "        text-align: right;\n",
              "    }\n",
              "</style>\n",
              "<table border=\"1\" class=\"dataframe\">\n",
              "  <thead>\n",
              "    <tr style=\"text-align: right;\">\n",
              "      <th></th>\n",
              "      <th>instant</th>\n",
              "      <th>season</th>\n",
              "      <th>yr</th>\n",
              "      <th>mnth</th>\n",
              "      <th>hr</th>\n",
              "      <th>holiday</th>\n",
              "      <th>weekday</th>\n",
              "      <th>workingday</th>\n",
              "      <th>weathersit</th>\n",
              "      <th>temp</th>\n",
              "      <th>atemp</th>\n",
              "      <th>hum</th>\n",
              "      <th>windspeed</th>\n",
              "      <th>cnt</th>\n",
              "      <th>day</th>\n",
              "      <th>dayofyr</th>\n",
              "    </tr>\n",
              "  </thead>\n",
              "  <tbody>\n",
              "    <tr>\n",
              "      <th>0</th>\n",
              "      <td>0.000000</td>\n",
              "      <td>1</td>\n",
              "      <td>0</td>\n",
              "      <td>1</td>\n",
              "      <td>0</td>\n",
              "      <td>0</td>\n",
              "      <td>6</td>\n",
              "      <td>0</td>\n",
              "      <td>1</td>\n",
              "      <td>0.24</td>\n",
              "      <td>0.2879</td>\n",
              "      <td>0.81</td>\n",
              "      <td>0.0</td>\n",
              "      <td>16</td>\n",
              "      <td>1</td>\n",
              "      <td>1</td>\n",
              "    </tr>\n",
              "    <tr>\n",
              "      <th>1</th>\n",
              "      <td>0.000114</td>\n",
              "      <td>1</td>\n",
              "      <td>0</td>\n",
              "      <td>1</td>\n",
              "      <td>1</td>\n",
              "      <td>0</td>\n",
              "      <td>6</td>\n",
              "      <td>0</td>\n",
              "      <td>1</td>\n",
              "      <td>0.22</td>\n",
              "      <td>0.2727</td>\n",
              "      <td>0.80</td>\n",
              "      <td>0.0</td>\n",
              "      <td>40</td>\n",
              "      <td>1</td>\n",
              "      <td>1</td>\n",
              "    </tr>\n",
              "    <tr>\n",
              "      <th>2</th>\n",
              "      <td>0.000228</td>\n",
              "      <td>1</td>\n",
              "      <td>0</td>\n",
              "      <td>1</td>\n",
              "      <td>2</td>\n",
              "      <td>0</td>\n",
              "      <td>6</td>\n",
              "      <td>0</td>\n",
              "      <td>1</td>\n",
              "      <td>0.22</td>\n",
              "      <td>0.2727</td>\n",
              "      <td>0.80</td>\n",
              "      <td>0.0</td>\n",
              "      <td>32</td>\n",
              "      <td>1</td>\n",
              "      <td>1</td>\n",
              "    </tr>\n",
              "    <tr>\n",
              "      <th>3</th>\n",
              "      <td>0.000342</td>\n",
              "      <td>1</td>\n",
              "      <td>0</td>\n",
              "      <td>1</td>\n",
              "      <td>3</td>\n",
              "      <td>0</td>\n",
              "      <td>6</td>\n",
              "      <td>0</td>\n",
              "      <td>1</td>\n",
              "      <td>0.24</td>\n",
              "      <td>0.2879</td>\n",
              "      <td>0.75</td>\n",
              "      <td>0.0</td>\n",
              "      <td>13</td>\n",
              "      <td>1</td>\n",
              "      <td>1</td>\n",
              "    </tr>\n",
              "    <tr>\n",
              "      <th>4</th>\n",
              "      <td>0.000457</td>\n",
              "      <td>1</td>\n",
              "      <td>0</td>\n",
              "      <td>1</td>\n",
              "      <td>4</td>\n",
              "      <td>0</td>\n",
              "      <td>6</td>\n",
              "      <td>0</td>\n",
              "      <td>1</td>\n",
              "      <td>0.24</td>\n",
              "      <td>0.2879</td>\n",
              "      <td>0.75</td>\n",
              "      <td>0.0</td>\n",
              "      <td>1</td>\n",
              "      <td>1</td>\n",
              "      <td>1</td>\n",
              "    </tr>\n",
              "  </tbody>\n",
              "</table>\n",
              "</div>\n",
              "    <div class=\"colab-df-buttons\">\n",
              "\n",
              "  <div class=\"colab-df-container\">\n",
              "    <button class=\"colab-df-convert\" onclick=\"convertToInteractive('df-a4a43a6f-5d84-4272-908d-d6c79ec451ae')\"\n",
              "            title=\"Convert this dataframe to an interactive table.\"\n",
              "            style=\"display:none;\">\n",
              "\n",
              "  <svg xmlns=\"http://www.w3.org/2000/svg\" height=\"24px\" viewBox=\"0 -960 960 960\">\n",
              "    <path d=\"M120-120v-720h720v720H120Zm60-500h600v-160H180v160Zm220 220h160v-160H400v160Zm0 220h160v-160H400v160ZM180-400h160v-160H180v160Zm440 0h160v-160H620v160ZM180-180h160v-160H180v160Zm440 0h160v-160H620v160Z\"/>\n",
              "  </svg>\n",
              "    </button>\n",
              "\n",
              "  <style>\n",
              "    .colab-df-container {\n",
              "      display:flex;\n",
              "      gap: 12px;\n",
              "    }\n",
              "\n",
              "    .colab-df-convert {\n",
              "      background-color: #E8F0FE;\n",
              "      border: none;\n",
              "      border-radius: 50%;\n",
              "      cursor: pointer;\n",
              "      display: none;\n",
              "      fill: #1967D2;\n",
              "      height: 32px;\n",
              "      padding: 0 0 0 0;\n",
              "      width: 32px;\n",
              "    }\n",
              "\n",
              "    .colab-df-convert:hover {\n",
              "      background-color: #E2EBFA;\n",
              "      box-shadow: 0px 1px 2px rgba(60, 64, 67, 0.3), 0px 1px 3px 1px rgba(60, 64, 67, 0.15);\n",
              "      fill: #174EA6;\n",
              "    }\n",
              "\n",
              "    .colab-df-buttons div {\n",
              "      margin-bottom: 4px;\n",
              "    }\n",
              "\n",
              "    [theme=dark] .colab-df-convert {\n",
              "      background-color: #3B4455;\n",
              "      fill: #D2E3FC;\n",
              "    }\n",
              "\n",
              "    [theme=dark] .colab-df-convert:hover {\n",
              "      background-color: #434B5C;\n",
              "      box-shadow: 0px 1px 3px 1px rgba(0, 0, 0, 0.15);\n",
              "      filter: drop-shadow(0px 1px 2px rgba(0, 0, 0, 0.3));\n",
              "      fill: #FFFFFF;\n",
              "    }\n",
              "  </style>\n",
              "\n",
              "    <script>\n",
              "      const buttonEl =\n",
              "        document.querySelector('#df-a4a43a6f-5d84-4272-908d-d6c79ec451ae button.colab-df-convert');\n",
              "      buttonEl.style.display =\n",
              "        google.colab.kernel.accessAllowed ? 'block' : 'none';\n",
              "\n",
              "      async function convertToInteractive(key) {\n",
              "        const element = document.querySelector('#df-a4a43a6f-5d84-4272-908d-d6c79ec451ae');\n",
              "        const dataTable =\n",
              "          await google.colab.kernel.invokeFunction('convertToInteractive',\n",
              "                                                    [key], {});\n",
              "        if (!dataTable) return;\n",
              "\n",
              "        const docLinkHtml = 'Like what you see? Visit the ' +\n",
              "          '<a target=\"_blank\" href=https://colab.research.google.com/notebooks/data_table.ipynb>data table notebook</a>'\n",
              "          + ' to learn more about interactive tables.';\n",
              "        element.innerHTML = '';\n",
              "        dataTable['output_type'] = 'display_data';\n",
              "        await google.colab.output.renderOutput(dataTable, element);\n",
              "        const docLink = document.createElement('div');\n",
              "        docLink.innerHTML = docLinkHtml;\n",
              "        element.appendChild(docLink);\n",
              "      }\n",
              "    </script>\n",
              "  </div>\n",
              "\n",
              "\n",
              "<div id=\"df-176e0065-18e3-4687-9795-d32be391b865\">\n",
              "  <button class=\"colab-df-quickchart\" onclick=\"quickchart('df-176e0065-18e3-4687-9795-d32be391b865')\"\n",
              "            title=\"Suggest charts\"\n",
              "            style=\"display:none;\">\n",
              "\n",
              "<svg xmlns=\"http://www.w3.org/2000/svg\" height=\"24px\"viewBox=\"0 0 24 24\"\n",
              "     width=\"24px\">\n",
              "    <g>\n",
              "        <path d=\"M19 3H5c-1.1 0-2 .9-2 2v14c0 1.1.9 2 2 2h14c1.1 0 2-.9 2-2V5c0-1.1-.9-2-2-2zM9 17H7v-7h2v7zm4 0h-2V7h2v10zm4 0h-2v-4h2v4z\"/>\n",
              "    </g>\n",
              "</svg>\n",
              "  </button>\n",
              "\n",
              "<style>\n",
              "  .colab-df-quickchart {\n",
              "      --bg-color: #E8F0FE;\n",
              "      --fill-color: #1967D2;\n",
              "      --hover-bg-color: #E2EBFA;\n",
              "      --hover-fill-color: #174EA6;\n",
              "      --disabled-fill-color: #AAA;\n",
              "      --disabled-bg-color: #DDD;\n",
              "  }\n",
              "\n",
              "  [theme=dark] .colab-df-quickchart {\n",
              "      --bg-color: #3B4455;\n",
              "      --fill-color: #D2E3FC;\n",
              "      --hover-bg-color: #434B5C;\n",
              "      --hover-fill-color: #FFFFFF;\n",
              "      --disabled-bg-color: #3B4455;\n",
              "      --disabled-fill-color: #666;\n",
              "  }\n",
              "\n",
              "  .colab-df-quickchart {\n",
              "    background-color: var(--bg-color);\n",
              "    border: none;\n",
              "    border-radius: 50%;\n",
              "    cursor: pointer;\n",
              "    display: none;\n",
              "    fill: var(--fill-color);\n",
              "    height: 32px;\n",
              "    padding: 0;\n",
              "    width: 32px;\n",
              "  }\n",
              "\n",
              "  .colab-df-quickchart:hover {\n",
              "    background-color: var(--hover-bg-color);\n",
              "    box-shadow: 0 1px 2px rgba(60, 64, 67, 0.3), 0 1px 3px 1px rgba(60, 64, 67, 0.15);\n",
              "    fill: var(--button-hover-fill-color);\n",
              "  }\n",
              "\n",
              "  .colab-df-quickchart-complete:disabled,\n",
              "  .colab-df-quickchart-complete:disabled:hover {\n",
              "    background-color: var(--disabled-bg-color);\n",
              "    fill: var(--disabled-fill-color);\n",
              "    box-shadow: none;\n",
              "  }\n",
              "\n",
              "  .colab-df-spinner {\n",
              "    border: 2px solid var(--fill-color);\n",
              "    border-color: transparent;\n",
              "    border-bottom-color: var(--fill-color);\n",
              "    animation:\n",
              "      spin 1s steps(1) infinite;\n",
              "  }\n",
              "\n",
              "  @keyframes spin {\n",
              "    0% {\n",
              "      border-color: transparent;\n",
              "      border-bottom-color: var(--fill-color);\n",
              "      border-left-color: var(--fill-color);\n",
              "    }\n",
              "    20% {\n",
              "      border-color: transparent;\n",
              "      border-left-color: var(--fill-color);\n",
              "      border-top-color: var(--fill-color);\n",
              "    }\n",
              "    30% {\n",
              "      border-color: transparent;\n",
              "      border-left-color: var(--fill-color);\n",
              "      border-top-color: var(--fill-color);\n",
              "      border-right-color: var(--fill-color);\n",
              "    }\n",
              "    40% {\n",
              "      border-color: transparent;\n",
              "      border-right-color: var(--fill-color);\n",
              "      border-top-color: var(--fill-color);\n",
              "    }\n",
              "    60% {\n",
              "      border-color: transparent;\n",
              "      border-right-color: var(--fill-color);\n",
              "    }\n",
              "    80% {\n",
              "      border-color: transparent;\n",
              "      border-right-color: var(--fill-color);\n",
              "      border-bottom-color: var(--fill-color);\n",
              "    }\n",
              "    90% {\n",
              "      border-color: transparent;\n",
              "      border-bottom-color: var(--fill-color);\n",
              "    }\n",
              "  }\n",
              "</style>\n",
              "\n",
              "  <script>\n",
              "    async function quickchart(key) {\n",
              "      const quickchartButtonEl =\n",
              "        document.querySelector('#' + key + ' button');\n",
              "      quickchartButtonEl.disabled = true;  // To prevent multiple clicks.\n",
              "      quickchartButtonEl.classList.add('colab-df-spinner');\n",
              "      try {\n",
              "        const charts = await google.colab.kernel.invokeFunction(\n",
              "            'suggestCharts', [key], {});\n",
              "      } catch (error) {\n",
              "        console.error('Error during call to suggestCharts:', error);\n",
              "      }\n",
              "      quickchartButtonEl.classList.remove('colab-df-spinner');\n",
              "      quickchartButtonEl.classList.add('colab-df-quickchart-complete');\n",
              "    }\n",
              "    (() => {\n",
              "      let quickchartButtonEl =\n",
              "        document.querySelector('#df-176e0065-18e3-4687-9795-d32be391b865 button');\n",
              "      quickchartButtonEl.style.display =\n",
              "        google.colab.kernel.accessAllowed ? 'block' : 'none';\n",
              "    })();\n",
              "  </script>\n",
              "</div>\n",
              "\n",
              "    </div>\n",
              "  </div>\n"
            ],
            "application/vnd.google.colaboratory.intrinsic+json": {
              "type": "dataframe",
              "variable_name": "data",
              "summary": "{\n  \"name\": \"data\",\n  \"rows\": 17379,\n  \"fields\": [\n    {\n      \"column\": \"instant\",\n      \"properties\": {\n        \"dtype\": \"number\",\n        \"std\": 0.5755355447282482,\n        \"min\": 0.0,\n        \"max\": 2.0026255707762557,\n        \"num_unique_values\": 17379,\n        \"samples\": [\n          1.4788812785388128,\n          1.0050228310502283,\n          0.8221461187214611\n        ],\n        \"semantic_type\": \"\",\n        \"description\": \"\"\n      }\n    },\n    {\n      \"column\": \"season\",\n      \"properties\": {\n        \"dtype\": \"number\",\n        \"std\": 1,\n        \"min\": 1,\n        \"max\": 4,\n        \"num_unique_values\": 4,\n        \"samples\": [\n          2,\n          4,\n          1\n        ],\n        \"semantic_type\": \"\",\n        \"description\": \"\"\n      }\n    },\n    {\n      \"column\": \"yr\",\n      \"properties\": {\n        \"dtype\": \"number\",\n        \"std\": 0,\n        \"min\": 0,\n        \"max\": 1,\n        \"num_unique_values\": 2,\n        \"samples\": [\n          1,\n          0\n        ],\n        \"semantic_type\": \"\",\n        \"description\": \"\"\n      }\n    },\n    {\n      \"column\": \"mnth\",\n      \"properties\": {\n        \"dtype\": \"number\",\n        \"std\": 3,\n        \"min\": 1,\n        \"max\": 12,\n        \"num_unique_values\": 12,\n        \"samples\": [\n          11,\n          10\n        ],\n        \"semantic_type\": \"\",\n        \"description\": \"\"\n      }\n    },\n    {\n      \"column\": \"hr\",\n      \"properties\": {\n        \"dtype\": \"number\",\n        \"std\": 6,\n        \"min\": 0,\n        \"max\": 23,\n        \"num_unique_values\": 24,\n        \"samples\": [\n          8,\n          16\n        ],\n        \"semantic_type\": \"\",\n        \"description\": \"\"\n      }\n    },\n    {\n      \"column\": \"holiday\",\n      \"properties\": {\n        \"dtype\": \"number\",\n        \"std\": 0,\n        \"min\": 0,\n        \"max\": 1,\n        \"num_unique_values\": 2,\n        \"samples\": [\n          1,\n          0\n        ],\n        \"semantic_type\": \"\",\n        \"description\": \"\"\n      }\n    },\n    {\n      \"column\": \"weekday\",\n      \"properties\": {\n        \"dtype\": \"number\",\n        \"std\": 2,\n        \"min\": 0,\n        \"max\": 6,\n        \"num_unique_values\": 7,\n        \"samples\": [\n          6,\n          0\n        ],\n        \"semantic_type\": \"\",\n        \"description\": \"\"\n      }\n    },\n    {\n      \"column\": \"workingday\",\n      \"properties\": {\n        \"dtype\": \"number\",\n        \"std\": 0,\n        \"min\": 0,\n        \"max\": 1,\n        \"num_unique_values\": 2,\n        \"samples\": [\n          1,\n          0\n        ],\n        \"semantic_type\": \"\",\n        \"description\": \"\"\n      }\n    },\n    {\n      \"column\": \"weathersit\",\n      \"properties\": {\n        \"dtype\": \"number\",\n        \"std\": 0,\n        \"min\": 1,\n        \"max\": 4,\n        \"num_unique_values\": 4,\n        \"samples\": [\n          2,\n          4\n        ],\n        \"semantic_type\": \"\",\n        \"description\": \"\"\n      }\n    },\n    {\n      \"column\": \"temp\",\n      \"properties\": {\n        \"dtype\": \"number\",\n        \"std\": 0.19255612124972407,\n        \"min\": 0.02,\n        \"max\": 1.0,\n        \"num_unique_values\": 50,\n        \"samples\": [\n          0.16,\n          0.82\n        ],\n        \"semantic_type\": \"\",\n        \"description\": \"\"\n      }\n    },\n    {\n      \"column\": \"atemp\",\n      \"properties\": {\n        \"dtype\": \"number\",\n        \"std\": 0.17185021563536587,\n        \"min\": 0.0,\n        \"max\": 1.0,\n        \"num_unique_values\": 65,\n        \"samples\": [\n          0.7879,\n          0.9242\n        ],\n        \"semantic_type\": \"\",\n        \"description\": \"\"\n      }\n    },\n    {\n      \"column\": \"hum\",\n      \"properties\": {\n        \"dtype\": \"number\",\n        \"std\": 0.1929298340629125,\n        \"min\": 0.0,\n        \"max\": 1.0,\n        \"num_unique_values\": 89,\n        \"samples\": [\n          0.29,\n          0.61\n        ],\n        \"semantic_type\": \"\",\n        \"description\": \"\"\n      }\n    },\n    {\n      \"column\": \"windspeed\",\n      \"properties\": {\n        \"dtype\": \"number\",\n        \"std\": 0.12234022857279413,\n        \"min\": 0.0,\n        \"max\": 0.8507,\n        \"num_unique_values\": 30,\n        \"samples\": [\n          0.8507,\n          0.4925\n        ],\n        \"semantic_type\": \"\",\n        \"description\": \"\"\n      }\n    },\n    {\n      \"column\": \"cnt\",\n      \"properties\": {\n        \"dtype\": \"number\",\n        \"std\": 181,\n        \"min\": 1,\n        \"max\": 977,\n        \"num_unique_values\": 869,\n        \"samples\": [\n          594,\n          46\n        ],\n        \"semantic_type\": \"\",\n        \"description\": \"\"\n      }\n    },\n    {\n      \"column\": \"day\",\n      \"properties\": {\n        \"dtype\": \"number\",\n        \"std\": 8,\n        \"min\": 1,\n        \"max\": 31,\n        \"num_unique_values\": 31,\n        \"samples\": [\n          28,\n          16\n        ],\n        \"semantic_type\": \"\",\n        \"description\": \"\"\n      }\n    },\n    {\n      \"column\": \"dayofyr\",\n      \"properties\": {\n        \"dtype\": \"number\",\n        \"std\": 105,\n        \"min\": 1,\n        \"max\": 366,\n        \"num_unique_values\": 366,\n        \"samples\": [\n          194,\n          34\n        ],\n        \"semantic_type\": \"\",\n        \"description\": \"\"\n      }\n    }\n  ]\n}"
            }
          },
          "metadata": {},
          "execution_count": 7
        }
      ],
      "execution_count": 7
    },
    {
      "cell_type": "markdown",
      "source": [
        "Before proceding with exploratory data analysis, we partition our dataset into training and test sets."
      ],
      "metadata": {
        "_uuid": "c94ef213-5b3b-498c-9d53-e73f1ca90bb9",
        "_cell_guid": "39d51bbc-4389-41db-8b6e-1519bcfd040c",
        "trusted": true,
        "collapsed": false,
        "jupyter": {
          "outputs_hidden": false
        },
        "id": "_F2ebL6BARQ9"
      }
    },
    {
      "cell_type": "code",
      "source": [
        "data_train, data_test = train_test_split(data, test_size = 0.2)"
      ],
      "metadata": {
        "_uuid": "b049966c-95f5-458a-a6ea-ef517b6e3eca",
        "_cell_guid": "9f7767b7-3fdb-4cc2-97f8-708ae1f6ec28",
        "trusted": true,
        "execution": {
          "iopub.status.busy": "2024-12-07T08:00:59.845793Z",
          "iopub.execute_input": "2024-12-07T08:00:59.846171Z",
          "iopub.status.idle": "2024-12-07T08:00:59.958995Z",
          "shell.execute_reply.started": "2024-12-07T08:00:59.846134Z",
          "shell.execute_reply": "2024-12-07T08:00:59.957674Z"
        },
        "jupyter": {
          "outputs_hidden": false
        },
        "id": "nnI-7DJPARQ9"
      },
      "outputs": [],
      "execution_count": 8
    },
    {
      "cell_type": "markdown",
      "source": [
        "# Exploratory data analysis\n",
        "\n",
        "Below is a heatmap of the correlation matrix of the dataset."
      ],
      "metadata": {
        "_uuid": "6ad0925b-c11d-469c-9446-b074b0bde738",
        "_cell_guid": "301b6196-4740-4f7b-aa63-ca86f92d9619",
        "trusted": true,
        "collapsed": false,
        "jupyter": {
          "outputs_hidden": false
        },
        "id": "B4YnHDeWARQ-"
      }
    },
    {
      "cell_type": "code",
      "source": [
        "sns.set(rc={\"figure.figsize\": (10, 10)})\n",
        "sns.set(font_scale = 0.5)\n",
        "sns.heatmap(data_train.corr(), annot = True)"
      ],
      "metadata": {
        "colab": {
          "base_uri": "https://localhost:8080/",
          "height": 885
        },
        "id": "Y41wBu1VHwoI",
        "outputId": "ad9dbc18-22da-4f49-e4b1-c2066d405561"
      },
      "execution_count": 9,
      "outputs": [
        {
          "output_type": "execute_result",
          "data": {
            "text/plain": [
              "<Axes: >"
            ]
          },
          "metadata": {},
          "execution_count": 9
        },
        {
          "output_type": "display_data",
          "data": {
            "text/plain": [
              "<Figure size 1000x1000 with 2 Axes>"
            ],
            "image/png": "[encoded data removed]"
          },
          "metadata": {}
        }
      ]
    },
    {
      "cell_type": "markdown",
      "source": [
        "According to the correlation matrix, `cnt` is not very highly correlated with the time dummy `instant`. In a sense, this is surprising because one might expect that there would be a strong relationship between the number of rides in a given hour and the time or day, time or week, or time of year. One explation for the lack of correlation is that the relationship between these variables is seasonal and nonlinear. Three plausible periods of seasonal variation are annual (due to changes in weather throughout the year), weekly (due to work schedules), and daily (due to sleep habits). The following plots show average values of `cnt` grouped by month, day of week, and hour of day, and they support our assumption that there is seasonality at the three frequencies we identified."
      ],
      "metadata": {
        "id": "khHu8D3RHkPZ"
      }
    },
    {
      "cell_type": "code",
      "source": [
        "sns.set(rc={\"figure.figsize\": (5, 3)})\n",
        "sns.set(font_scale = 0.5)\n",
        "monthly_averages = data_train.groupby(\"mnth\").mean()\n",
        "monthly_averages[\"cnt\"].plot()"
      ],
      "metadata": {
        "_uuid": "72329728-6c6c-4054-963c-9b9137c74e9c",
        "_cell_guid": "a34f7640-84ae-414f-a724-cd442cf017aa",
        "trusted": true,
        "execution": {
          "iopub.status.busy": "2024-12-07T08:00:59.960333Z",
          "iopub.execute_input": "2024-12-07T08:00:59.960654Z",
          "iopub.status.idle": "2024-12-07T08:01:00.281420Z",
          "shell.execute_reply.started": "2024-12-07T08:00:59.960621Z",
          "shell.execute_reply": "2024-12-07T08:01:00.280283Z"
        },
        "jupyter": {
          "outputs_hidden": false
        },
        "colab": {
          "base_uri": "https://localhost:8080/",
          "height": 321
        },
        "id": "8nSqq52OARQ-",
        "outputId": "92e5deb5-e32f-4ba6-d898-1e615919cce8"
      },
      "outputs": [
        {
          "output_type": "execute_result",
          "data": {
            "text/plain": [
              "<Axes: xlabel='mnth'>"
            ]
          },
          "metadata": {},
          "execution_count": 10
        },
        {
          "output_type": "display_data",
          "data": {
            "text/plain": [
              "<Figure size 500x300 with 1 Axes>"
            ],
            "image/png": "[encoded data removed]"
          },
          "metadata": {}
        }
      ],
      "execution_count": 10
    },
    {
      "cell_type": "code",
      "source": [
        "weekday_averages = data_train.groupby(\"weekday\").mean()[\"cnt\"]\n",
        "weekday_averages.plot()"
      ],
      "metadata": {
        "_uuid": "367cd847-f09c-41f5-9842-405df36c77fe",
        "_cell_guid": "2fd8894f-28f7-4015-ab0b-19ea589ae747",
        "trusted": true,
        "execution": {
          "iopub.status.busy": "2024-12-07T08:01:00.282930Z",
          "iopub.execute_input": "2024-12-07T08:01:00.283413Z",
          "iopub.status.idle": "2024-12-07T08:01:00.564334Z",
          "shell.execute_reply.started": "2024-12-07T08:01:00.283364Z",
          "shell.execute_reply": "2024-12-07T08:01:00.563290Z"
        },
        "jupyter": {
          "outputs_hidden": false
        },
        "colab": {
          "base_uri": "https://localhost:8080/",
          "height": 321
        },
        "id": "Z7i6EONmARQ-",
        "outputId": "695835fc-3201-4143-824f-e17842af3923"
      },
      "outputs": [
        {
          "output_type": "execute_result",
          "data": {
            "text/plain": [
              "<Axes: xlabel='weekday'>"
            ]
          },
          "metadata": {},
          "execution_count": 11
        },
        {
          "output_type": "display_data",
          "data": {
            "text/plain": [
              "<Figure size 500x300 with 1 Axes>"
            ],
            "image/png": "[encoded data removed]"
          },
          "metadata": {}
        }
      ],
      "execution_count": 11
    },
    {
      "cell_type": "code",
      "source": [
        "hourly_averages = data_train.groupby(\"hr\").mean()[\"cnt\"]\n",
        "hourly_averages.plot()"
      ],
      "metadata": {
        "_uuid": "f5983ee6-a49e-4e06-9c09-892df3b18ec0",
        "_cell_guid": "c2df5a01-53fa-45f3-9375-43e584d950c9",
        "trusted": true,
        "execution": {
          "iopub.status.busy": "2024-12-07T08:01:00.566023Z",
          "iopub.execute_input": "2024-12-07T08:01:00.566519Z",
          "iopub.status.idle": "2024-12-07T08:01:00.808013Z",
          "shell.execute_reply.started": "2024-12-07T08:01:00.566469Z",
          "shell.execute_reply": "2024-12-07T08:01:00.806817Z"
        },
        "jupyter": {
          "outputs_hidden": false
        },
        "colab": {
          "base_uri": "https://localhost:8080/",
          "height": 321
        },
        "id": "BiwpsScpARQ-",
        "outputId": "5f84fd4f-7daf-4c47-eee4-fbf065365d16"
      },
      "outputs": [
        {
          "output_type": "execute_result",
          "data": {
            "text/plain": [
              "<Axes: xlabel='hr'>"
            ]
          },
          "metadata": {},
          "execution_count": 12
        },
        {
          "output_type": "display_data",
          "data": {
            "text/plain": [
              "<Figure size 500x300 with 1 Axes>"
            ],
            "image/png": "[encoded data removed]"
          },
          "metadata": {}
        }
      ],
      "execution_count": 12
    },
    {
      "cell_type": "markdown",
      "source": [
        "To model seasonality with linear regression, we will introduce two pairs of Fourier features corresponding to two of the frequencies at which we see seasonal variation:\n",
        "\n",
        "1. `np.sin(2*np.pi*instant)` and `np.cos(2*np.pi*instant)`, and\n",
        "2. `np.sin(2*np.pi*365*instant)` and `np.cos(2*np.pi*365*instant)`.\n",
        "\n",
        "These Fourier features can be used to approximate annual and daily seasonality. Since there are only 7 days per week (compared to 24 hours per day or 365 days per year), indicator variables are likely to give a better approximation of the weekly seasonality.\n",
        "\n",
        "The plot showing average `cnt` values grouped by hour indicates has apparent spikes in bike sharing between 8 am and 9 am and again between 4 pm and 7 pm. These times correspond to common commute times to and from work, and we think that the spikes might be well-modeled by introducing an indicator variable `commute` for the hours correspoding to the spikes."
      ],
      "metadata": {
        "_uuid": "94d38ca1-b26c-4707-a207-3a5dee0c05d4",
        "_cell_guid": "cb47c06a-7fdf-4fda-a63a-d7d8dcf4b850",
        "trusted": true,
        "collapsed": false,
        "jupyter": {
          "outputs_hidden": false
        },
        "id": "M2XHKxetARQ-"
      }
    },
    {
      "cell_type": "code",
      "source": [
        "# add columns to training set\n",
        "data_train[\"yrly1\"] = np.sin(2*np.pi*data_train[\"instant\"])\n",
        "data_train[\"yrly2\"] = np.cos(2*np.pi*data_train[\"instant\"])\n",
        "data_train[\"daily1\"] = np.sin(2*np.pi*365*data_train[\"instant\"])\n",
        "data_train[\"daily2\"] = np.cos(2*np.pi*365*data_train[\"instant\"])\n",
        "data_train[\"mo\"] = data_train[\"weekday\"] == 1\n",
        "data_train[\"tu\"] = data_train[\"weekday\"] == 2\n",
        "data_train[\"we\"] = data_train[\"weekday\"] == 3\n",
        "data_train[\"th\"] = data_train[\"weekday\"] == 4\n",
        "data_train[\"fr\"] = data_train[\"weekday\"] == 5\n",
        "data_train[\"sa\"] = data_train[\"weekday\"] == 6\n",
        "data_train[\"commute\"] = data_train[\"hr\"].isin([8,16,17,18])\n",
        "\n",
        "# add columns to test set\n",
        "data_test[\"yrly1\"] = np.sin(2*np.pi*data_test[\"instant\"])\n",
        "data_test[\"yrly2\"] = np.cos(2*np.pi*data_test[\"instant\"])\n",
        "data_test[\"mo\"] = data_test[\"weekday\"] == 1\n",
        "data_test[\"tu\"] = data_test[\"weekday\"] == 2\n",
        "data_test[\"we\"] = data_test[\"weekday\"] == 3\n",
        "data_test[\"th\"] = data_test[\"weekday\"] == 4\n",
        "data_test[\"fr\"] = data_test[\"weekday\"] == 5\n",
        "data_test[\"sa\"] = data_test[\"weekday\"] == 6\n",
        "data_test[\"daily1\"] = np.sin(2*np.pi*365*data_test[\"instant\"])\n",
        "data_test[\"daily2\"] = np.cos(2*np.pi*365*data_test[\"instant\"])\n",
        "data_test[\"commute\"] = data_test[\"hr\"].isin([8,16,17,18])"
      ],
      "metadata": {
        "_uuid": "5ef6575c-ce8e-457c-9062-f8cdbe05c604",
        "_cell_guid": "b7b9a480-a1c2-4cd5-ac7e-d4997c5c8d74",
        "trusted": true,
        "execution": {
          "iopub.status.busy": "2024-12-07T08:01:00.809738Z",
          "iopub.execute_input": "2024-12-07T08:01:00.810176Z",
          "iopub.status.idle": "2024-12-07T08:01:00.840403Z",
          "shell.execute_reply.started": "2024-12-07T08:01:00.810130Z",
          "shell.execute_reply": "2024-12-07T08:01:00.839094Z"
        },
        "jupyter": {
          "outputs_hidden": false
        },
        "id": "J4oH4-7GARQ-"
      },
      "outputs": [],
      "execution_count": 13
    },
    {
      "cell_type": "markdown",
      "source": [
        "# Linear regression\n",
        "\n",
        "Next, we proceed to model `cnt` using least-squares linear regression. Our dataset now contains 26 features. However, now that we are using `instant` as a time dummy, the features `season`, `yr`, `mnth`, `day`, `hr`, `dayofyr`, and `weekday` are redundant. Also, `workingday` is redundant as long as we include `holiday` since `workingday` is simply an indicator for days that are not weekends or holidays, and this information is contained in the `weekday` and `instant` columns. Also, `temp` and `atemp` are highly correlated since `temp` records the tempearture and `atemp` records the feel-like tempertature, so only one of these two features needs to be included in the model. The other weather-related variables are `weathersit`, `hum`, and `windspeed`, and each of these seems to be plausibly related to the number of bike rides in a given hour. In total, we will incorporate 13 features in a least-squares regression model `ols_model_seas`:\n",
        "\n",
        " * `instant`,\n",
        " * `yrly1`,\n",
        " * `yrly2`,\n",
        " * `daily1`,\n",
        " * `dayly2`,\n",
        " * `mo`,\n",
        " * `tu`,\n",
        " * `we`,\n",
        " * `th`,\n",
        " * `fr`,\n",
        " * `sa`,\n",
        " * `commute`,\n",
        " * `holiday`,\n",
        " * `weathersit`,\n",
        " * `atemp`,\n",
        " * `hum`, and\n",
        " * `windspeed`."
      ],
      "metadata": {
        "_uuid": "9d664e78-e803-4b52-9263-380ab0c903e6",
        "_cell_guid": "856a3bd5-6cea-4a8d-ab37-e17f3c4655d0",
        "trusted": true,
        "collapsed": false,
        "jupyter": {
          "outputs_hidden": false
        },
        "id": "0Hb9H6afARQ-"
      }
    },
    {
      "cell_type": "code",
      "source": [
        "ols_model = smf.ols(\n",
        "    \"\"\"\n",
        "        cnt ~ instant + yrly1 + yrly2 + daily1 +\n",
        "              daily2 + mo + tu + we + th + fr + sa +\n",
        "              commute + holiday + weathersit +\n",
        "              atemp + hum + windspeed\n",
        "    \"\"\",\n",
        "    data = data_train\n",
        ").fit()\n",
        "print(f\"ols_model R-squared: {ols_model.rsquared}\")\n",
        "y_pred = ols_model.predict(data_test)\n",
        "ols_mse = mean_squared_error(data_test[\"cnt\"],y_pred)\n",
        "print(f\"ols_model mean squared prediction error: {ols_mse}\")"
      ],
      "metadata": {
        "_uuid": "1a744535-a81c-4332-bbd4-0d248f747479",
        "_cell_guid": "1d6f02e3-6167-45f0-b2fe-aa772ca44c0f",
        "trusted": true,
        "execution": {
          "iopub.status.busy": "2024-12-07T08:01:00.841871Z",
          "iopub.execute_input": "2024-12-07T08:01:00.842404Z",
          "iopub.status.idle": "2024-12-07T08:01:00.972546Z",
          "shell.execute_reply.started": "2024-12-07T08:01:00.842358Z",
          "shell.execute_reply": "2024-12-07T08:01:00.970269Z"
        },
        "jupyter": {
          "outputs_hidden": false
        },
        "colab": {
          "base_uri": "https://localhost:8080/"
        },
        "id": "jhxbQMC9ARQ-",
        "outputId": "aef3a3de-a767-4477-f166-6fe7ea36b751"
      },
      "outputs": [
        {
          "output_type": "stream",
          "name": "stdout",
          "text": [
            "ols_model R-squared: 0.5897424326092349\n",
            "ols_model mean squared prediction error: 13243.946156036744\n"
          ]
        }
      ],
      "execution_count": 14
    },
    {
      "cell_type": "markdown",
      "source": [
        "The $R^2$-value for `ols_model` is less than 0.6, so unsurprisingly, there is a rather high mean squared prediction error of about 13000. Still, this regression based on the engineered Fourier and `commute` features does better than a similar model based on the non-engineered features, which has a much lower $R^2$-value and gives predictions with a mean squared error of about 20000."
      ],
      "metadata": {
        "_uuid": "382140ed-45d5-4b06-aea2-a8409fc5e941",
        "_cell_guid": "25ba743e-855f-4046-a94a-dae525384029",
        "trusted": true,
        "collapsed": false,
        "jupyter": {
          "outputs_hidden": false
        },
        "id": "wD81wszkARQ-"
      }
    },
    {
      "cell_type": "code",
      "source": [
        "ols_model_non_eng = smf.ols(\n",
        "    \"\"\"\n",
        "        cnt ~ yr + mnth + hr + holiday +\n",
        "              weekday + workingday + weathersit +\n",
        "              atemp + hum + windspeed\n",
        "    \"\"\",\n",
        "    data = data_train\n",
        ").fit()\n",
        "print(f\"non-engineered R-squared: {ols_model_non_eng.rsquared}\")\n",
        "y_pred_non_eng = ols_model_non_eng.predict(data_test)\n",
        "ols_non_eng_mse = mean_squared_error(data_test[\"cnt\"], y_pred_non_eng)\n",
        "print(f\"non-engineered mean squared prediction error: {ols_non_eng_mse}\")"
      ],
      "metadata": {
        "_uuid": "90017afd-c50e-4982-a10a-048d29f94dd0",
        "_cell_guid": "601b487a-13fb-404e-bead-d45e0619b15f",
        "trusted": true,
        "execution": {
          "iopub.status.busy": "2024-12-07T08:01:00.974036Z",
          "iopub.execute_input": "2024-12-07T08:01:00.974534Z",
          "iopub.status.idle": "2024-12-07T08:01:01.083181Z",
          "shell.execute_reply.started": "2024-12-07T08:01:00.974476Z",
          "shell.execute_reply": "2024-12-07T08:01:01.081700Z"
        },
        "jupyter": {
          "outputs_hidden": false
        },
        "colab": {
          "base_uri": "https://localhost:8080/"
        },
        "id": "YdpibiXAARQ-",
        "outputId": "7375cb8c-80bc-45ba-80ae-dcad586c24e6"
      },
      "outputs": [
        {
          "output_type": "stream",
          "name": "stdout",
          "text": [
            "non-engineered R-squared: 0.3834831670369707\n",
            "non-engineered mean squared prediction error: 20534.763124362467\n"
          ]
        }
      ],
      "execution_count": 15
    },
    {
      "cell_type": "markdown",
      "source": [
        "Though the feature-engineered least-squares model shows a substantial improvement in accuracy, an hourly mean squared error rate of 13000 corresponds to about 116 bike rides per hour, and this is a large value compared to the typical number of rides per hour represented in the dataset. This high error rate is likely due in part to nonlinear relationships between `cnt` and some of the non-temporal features in `ols_model`. What we need is a model better able to represent these nonlinear relationshps."
      ],
      "metadata": {
        "_uuid": "a2dbd907-7d67-4cf6-8461-5c092a5d2d0e",
        "_cell_guid": "86bebf15-51ac-4f99-9809-0ab1be48478f",
        "trusted": true,
        "collapsed": false,
        "jupyter": {
          "outputs_hidden": false
        },
        "id": "KH5lrlbuARQ-"
      }
    },
    {
      "cell_type": "markdown",
      "source": [
        "# Ensemble models\n",
        "\n",
        "The following two cells fit a random forest model and an `XGBoost` model to the test data using default hyperparameter values, compute predicted values given the test data, and return mean squared errors. We leave the Fourier features used in the linear regression out of the training data for the ensemble models. This is because these models might be able to detect the nonlinear relationship between `cnt` and `instant` that the Fourier features were meant to capture."
      ],
      "metadata": {
        "_uuid": "6c49d2ab-4b7a-40fe-9eb1-02042785908b",
        "_cell_guid": "33c7ee03-d34e-4647-9d6c-d6499e28cf56",
        "trusted": true,
        "collapsed": false,
        "jupyter": {
          "outputs_hidden": false
        },
        "id": "l6QNDdcIARQ-"
      }
    },
    {
      "cell_type": "code",
      "source": [
        "y_train = data_train[\"cnt\"]\n",
        "y_test = data_test[\"cnt\"]\n",
        "X_train = data_train.drop(\n",
        "    [\"yrly1\", \"yrly2\", \"daily1\", \"daily2\", \"cnt\"],\n",
        "    axis = 1\n",
        ")\n",
        "X_test = data_test.drop(\n",
        "    [\"yrly1\", \"yrly2\", \"daily1\", \"daily2\", \"cnt\"],\n",
        "    axis = 1\n",
        ")\n",
        "rf_model = RandomForestRegressor()\n",
        "rf_model.fit(X_train, y_train)\n",
        "y_pred = rf_model.predict(X_test)\n",
        "rf_mse = mean_squared_error(y_test, y_pred)\n",
        "print(f\"Untuned random forest mean square prediction error: {rf_mse}\")"
      ],
      "metadata": {
        "_uuid": "0861622d-845a-4f0e-84e9-85fccc8f819e",
        "_cell_guid": "c086d70f-00db-44b6-b00a-ccd28525bc86",
        "trusted": true,
        "execution": {
          "iopub.status.busy": "2024-12-07T08:01:01.085019Z",
          "iopub.execute_input": "2024-12-07T08:01:01.085706Z",
          "iopub.status.idle": "2024-12-07T08:01:10.821283Z",
          "shell.execute_reply.started": "2024-12-07T08:01:01.085659Z",
          "shell.execute_reply": "2024-12-07T08:01:10.820000Z"
        },
        "jupyter": {
          "outputs_hidden": false
        },
        "colab": {
          "base_uri": "https://localhost:8080/"
        },
        "id": "kU5_C7MJARQ-",
        "outputId": "8c73f924-cf09-47d5-ded5-60112d5e8a15"
      },
      "outputs": [
        {
          "output_type": "stream",
          "name": "stdout",
          "text": [
            "Untuned random forest mean square prediction error: 1614.759540074799\n"
          ]
        }
      ],
      "execution_count": 16
    },
    {
      "cell_type": "code",
      "source": [
        "xgb_model = XGBRegressor()\n",
        "xgb_model.fit(X_train, y_train)\n",
        "y_pred = xgb_model.predict(X_test)\n",
        "xgb_mse = mean_squared_error(y_test, y_pred)\n",
        "print(f\"Untuned XGBoost mean square prediction error: {xgb_mse}\")"
      ],
      "metadata": {
        "_uuid": "1f291194-5fdf-4ccd-a9fe-45c88aa4a1ac",
        "_cell_guid": "9a597355-2530-4675-9604-79a7f007cc25",
        "trusted": true,
        "execution": {
          "iopub.status.busy": "2024-12-07T08:01:10.822669Z",
          "iopub.execute_input": "2024-12-07T08:01:10.823024Z",
          "iopub.status.idle": "2024-12-07T08:01:11.120969Z",
          "shell.execute_reply.started": "2024-12-07T08:01:10.822990Z",
          "shell.execute_reply": "2024-12-07T08:01:11.118625Z"
        },
        "jupyter": {
          "outputs_hidden": false
        },
        "colab": {
          "base_uri": "https://localhost:8080/"
        },
        "id": "UGwX6Wj8ARQ_",
        "outputId": "755074d2-fb82-4ef1-c9f2-9f25404233b2"
      },
      "outputs": [
        {
          "output_type": "stream",
          "name": "stdout",
          "text": [
            "Untuned XGBoost mean square prediction error: 1407.439713235775\n"
          ]
        }
      ],
      "execution_count": 17
    },
    {
      "cell_type": "markdown",
      "source": [
        "The hyperparameters of the random forest and `XGBoost` models are untuned, and even without the engineered Fourier features, these models improve upon the performance of linear regression by about an order of magnitude."
      ],
      "metadata": {
        "_uuid": "dde83aef-3d42-42e7-8429-8b225774702b",
        "_cell_guid": "6c9b180d-ef22-4ef3-88dd-de81a5aac9eb",
        "trusted": true,
        "collapsed": false,
        "jupyter": {
          "outputs_hidden": false
        },
        "id": "gO_Z6tSVARQ_"
      }
    },
    {
      "cell_type": "markdown",
      "source": [
        "# Hyperparameter tuning\n",
        "To see what further improvements are possible in the random forest model using hyperparameter tuning, we perform a grid search. The GridSearchCV class initializes multiple instances of a predictor, each with different hyperparameter settings, and then uses cross-validation to identify the hyperparameter settings that give the best performance."
      ],
      "metadata": {
        "id": "sMxW6UXOKigI"
      }
    },
    {
      "cell_type": "code",
      "source": [
        "rf_param_grid = {\n",
        "    \"max_depth\": [i for i in range(1,10)] + [None],\n",
        "    \"max_features\": [\"sqrt\", \"log2\", None]\n",
        "}\n",
        "rf_grid = GridSearchCV(\n",
        "    RandomForestRegressor(),\n",
        "    rf_param_grid\n",
        ")\n",
        "rf_grid.fit(X_train, y_train)\n",
        "best_rf = rf_grid.best_params_\n",
        "print(f\"Best random forest hyperparameters: {best_rf}\")"
      ],
      "metadata": {
        "_uuid": "94d00c57-c439-4535-84b3-29e8ab67db9f",
        "_cell_guid": "5187a78d-2506-4b27-b19c-5037ce65db73",
        "trusted": true,
        "execution": {
          "iopub.status.busy": "2024-12-07T08:01:11.121952Z",
          "iopub.execute_input": "2024-12-07T08:01:11.122295Z",
          "iopub.status.idle": "2024-12-07T08:04:55.303262Z",
          "shell.execute_reply.started": "2024-12-07T08:01:11.122260Z",
          "shell.execute_reply": "2024-12-07T08:04:55.302084Z"
        },
        "jupyter": {
          "outputs_hidden": false
        },
        "colab": {
          "base_uri": "https://localhost:8080/"
        },
        "id": "myxfPeHEARQ_",
        "outputId": "7fda4096-5153-4183-cd8c-2295d3b12bb7"
      },
      "outputs": [
        {
          "output_type": "stream",
          "name": "stdout",
          "text": [
            "Best random forest hyperparameters: {'max_depth': None, 'max_features': None}\n"
          ]
        }
      ],
      "execution_count": 18
    },
    {
      "cell_type": "markdown",
      "source": [
        "Interestingly, among the models tested in `rf_grid`, the random forest with `max_depth` and `max_features` set to `None` saw the best performance. This is the default setting for the `RandomForestRegressor` class, and it allows trees of arbitrary depth based on arbitrarily many features."
      ],
      "metadata": {
        "_uuid": "5fc785c6-6473-459e-8c3e-6f814b947da7",
        "_cell_guid": "310f1e19-8003-40f7-ba75-9913afd2faff",
        "trusted": true,
        "collapsed": false,
        "jupyter": {
          "outputs_hidden": false
        },
        "id": "gqOFggzlARQ_"
      }
    },
    {
      "cell_type": "code",
      "source": [
        "rf_model = RandomForestRegressor(\n",
        "    max_depth = best_rf[\"max_depth\"],\n",
        "    max_features = best_rf[\"max_features\"]\n",
        ")\n",
        "rf_model.fit(X_train, y_train)\n",
        "y_pred = rf_model.predict(X_test)\n",
        "rf_mse = mean_squared_error(y_test, y_pred)\n",
        "print(f\"Tuned random forest mean square prediction error: {rf_mse}\")"
      ],
      "metadata": {
        "_uuid": "1e278867-77cc-476a-950c-815721e7a684",
        "_cell_guid": "c0529869-fe92-447e-a8c0-a9d886146958",
        "trusted": true,
        "execution": {
          "iopub.status.busy": "2024-12-07T08:04:55.304781Z",
          "iopub.execute_input": "2024-12-07T08:04:55.305161Z",
          "iopub.status.idle": "2024-12-07T08:05:04.829339Z",
          "shell.execute_reply.started": "2024-12-07T08:04:55.305127Z",
          "shell.execute_reply": "2024-12-07T08:05:04.828084Z"
        },
        "jupyter": {
          "outputs_hidden": false
        },
        "colab": {
          "base_uri": "https://localhost:8080/"
        },
        "id": "MZM9Iwb8ARQ_",
        "outputId": "fae1326a-149e-4987-bcf2-8822fd6f6132"
      },
      "outputs": [
        {
          "output_type": "stream",
          "name": "stdout",
          "text": [
            "Tuned random forest mean square prediction error: 1618.66832278481\n"
          ]
        }
      ],
      "execution_count": 19
    },
    {
      "cell_type": "markdown",
      "source": [
        "We now use the same grid search method to look for improvements to the `XGBoost` model."
      ],
      "metadata": {
        "_uuid": "c409df60-20de-42e2-ba86-37b702e83f97",
        "_cell_guid": "7596c589-4b6a-46a0-8e06-5a0ac1582808",
        "trusted": true,
        "collapsed": false,
        "jupyter": {
          "outputs_hidden": false
        },
        "id": "5JLnvNSQARQ_"
      }
    },
    {
      "cell_type": "code",
      "source": [
        "xgb_param_grid = {\n",
        "    \"max_depth\": [i for i in range(1,10)] + [None],\n",
        "    \"learning_rate\": [2**i for i in range(-5,1)] + [0.3]\n",
        "}\n",
        "xgb_grid = GridSearchCV(\n",
        "    XGBRegressor(),\n",
        "    xgb_param_grid\n",
        ")\n",
        "xgb_grid.fit(X_train, y_train)\n",
        "best_xgb = xgb_grid.best_params_\n",
        "print(f\"Best XGBoost hyperparameters: {best_xgb}\")"
      ],
      "metadata": {
        "_uuid": "34905842-3f8a-46c2-be85-610b43fb4abd",
        "_cell_guid": "28ae153c-314b-4f94-8def-205113c17349",
        "trusted": true,
        "execution": {
          "iopub.status.busy": "2024-12-07T08:05:04.830582Z",
          "iopub.execute_input": "2024-12-07T08:05:04.830887Z",
          "iopub.status.idle": "2024-12-07T08:06:31.698678Z",
          "shell.execute_reply.started": "2024-12-07T08:05:04.830858Z",
          "shell.execute_reply": "2024-12-07T08:06:31.697698Z"
        },
        "jupyter": {
          "outputs_hidden": false
        },
        "colab": {
          "base_uri": "https://localhost:8080/"
        },
        "id": "s3lrPKJaARQ_",
        "outputId": "681e173c-43c5-4826-d8e6-2f3135494d20"
      },
      "outputs": [
        {
          "output_type": "stream",
          "name": "stdout",
          "text": [
            "Best XGBoost hyperparameters: {'learning_rate': 0.125, 'max_depth': 8}\n"
          ]
        }
      ],
      "execution_count": 20
    },
    {
      "cell_type": "markdown",
      "source": [
        "In the case of `XGBoost`, best performance was obtained with a limited `max_depth` and a learning rate a bit lower than the default of 0.3."
      ],
      "metadata": {
        "_uuid": "b8c288fb-1637-4a28-920f-635bb29bcace",
        "_cell_guid": "e1f43076-33e4-48df-9166-e79b9893066a",
        "trusted": true,
        "collapsed": false,
        "jupyter": {
          "outputs_hidden": false
        },
        "id": "s81HU4w8ARQ_"
      }
    },
    {
      "cell_type": "code",
      "source": [
        "xgb_model = XGBRegressor(\n",
        "    learning_rate = best_xgb[\"learning_rate\"],\n",
        "    max_depth = best_xgb[\"max_depth\"]\n",
        ")\n",
        "xgb_model.fit(X_train, y_train)\n",
        "y_pred = xgb_model.predict(X_test)\n",
        "xgb_mse = mean_squared_error(y_test, y_pred)\n",
        "print(f\"Tuned XGBoost mean squared prediction error: {xgb_mse}\")"
      ],
      "metadata": {
        "_uuid": "41a637f3-216e-41d0-8d10-3a671291ba1d",
        "_cell_guid": "71b44905-91c6-4035-9c77-25f091c05e09",
        "trusted": true,
        "execution": {
          "iopub.status.busy": "2024-12-07T08:06:31.700055Z",
          "iopub.execute_input": "2024-12-07T08:06:31.700782Z",
          "iopub.status.idle": "2024-12-07T08:06:32.131845Z",
          "shell.execute_reply.started": "2024-12-07T08:06:31.700733Z",
          "shell.execute_reply": "2024-12-07T08:06:32.130974Z"
        },
        "jupyter": {
          "outputs_hidden": false
        },
        "colab": {
          "base_uri": "https://localhost:8080/"
        },
        "id": "vGwTpftCARQ_",
        "outputId": "e1d3d33c-a171-4a29-9d0e-303abfc4d716"
      },
      "outputs": [
        {
          "output_type": "stream",
          "name": "stdout",
          "text": [
            "Tuned XGBoost mean squared prediction error: 1314.6750977108318\n"
          ]
        }
      ],
      "execution_count": 21
    },
    {
      "cell_type": "markdown",
      "source": [
        "# Results\n",
        "\n",
        "In terms of prediction accuracy, the best model was `XGBoost`. The plot below shows the distribution of prediction errors. The plot is centered at approximately 0, indicating that `XGBoost` is giving approximately unbiased predictions. The square root of the mean squared prediction error is about 35, and approximately 80% of the data lie within 35 units of 0. Also, the error distribution seems to be independent of `instant`, so the model is performing consistently on data over the two-year interval covered by the training set. In a bike sharing system than regularly sees several hundred rides per hour, predicting the number of rides in a given hour to within about 35 rides 80% of the time seems like a good result given a relatively simple model."
      ],
      "metadata": {
        "_uuid": "f05a2cac-5d94-49ad-af70-0aec43c59bb8",
        "_cell_guid": "1b121790-712c-4b4c-aceb-5edc4ee1ed30",
        "trusted": true,
        "collapsed": false,
        "jupyter": {
          "outputs_hidden": false
        },
        "id": "yDR9x0b1ARQ_"
      }
    },
    {
      "cell_type": "code",
      "source": [
        "best_result = pd.DataFrame(X_test.copy())\n",
        "best_result[\"pred_cnt\"] = y_pred\n",
        "best_result[\"act_cnt\"] = y_test\n",
        "best_result[\"error\"] = y_test - y_pred\n",
        "best_result.plot(kind = \"scatter\", x = \"instant\", y = \"error\")\n",
        "print(f\"Mean prediction error: {best_result['error'].mean()}\")"
      ],
      "metadata": {
        "_uuid": "506fc745-9758-4589-8b6d-9a6ae33c5eb7",
        "_cell_guid": "d5556ea4-66c7-4229-9263-5a19e7abfc96",
        "trusted": true,
        "execution": {
          "iopub.status.busy": "2024-12-07T08:06:32.133166Z",
          "iopub.execute_input": "2024-12-07T08:06:32.133850Z",
          "iopub.status.idle": "2024-12-07T08:06:32.446609Z",
          "shell.execute_reply.started": "2024-12-07T08:06:32.133813Z",
          "shell.execute_reply": "2024-12-07T08:06:32.445231Z"
        },
        "jupyter": {
          "outputs_hidden": false
        },
        "colab": {
          "base_uri": "https://localhost:8080/",
          "height": 321
        },
        "id": "i5sbIfKRARQ_",
        "outputId": "37597777-fe3d-431e-f4f3-53c188fbff03"
      },
      "outputs": [
        {
          "output_type": "stream",
          "name": "stdout",
          "text": [
            "Mean prediction error: 0.6790143981151566\n"
          ]
        },
        {
          "output_type": "display_data",
          "data": {
            "text/plain": [
              "<Figure size 500x300 with 1 Axes>"
            ],
            "image/png": "[encoded data removed]"
          },
          "metadata": {}
        }
      ],
      "execution_count": 22
    },
    {
      "cell_type": "code",
      "source": [
        "best_result[abs(best_result[\"error\"]) > 35].sort_values(\"error\")"
      ],
      "metadata": {
        "_uuid": "b7fcb797-2d40-4f14-998f-caadae2b0e3b",
        "_cell_guid": "da33fcc0-5a89-4834-b6ad-5b5b7b83db8e",
        "trusted": true,
        "execution": {
          "iopub.status.busy": "2024-12-07T08:06:32.448839Z",
          "iopub.execute_input": "2024-12-07T08:06:32.449169Z",
          "iopub.status.idle": "2024-12-07T08:06:32.479646Z",
          "shell.execute_reply.started": "2024-12-07T08:06:32.449138Z",
          "shell.execute_reply": "2024-12-07T08:06:32.478575Z"
        },
        "jupyter": {
          "outputs_hidden": false
        },
        "colab": {
          "base_uri": "https://localhost:8080/",
          "height": 424
        },
        "id": "3aTAsT19ARQ_",
        "outputId": "fd0a2a5b-3fe2-45c0-ee70-16ea993471b6"
      },
      "outputs": [
        {
          "output_type": "execute_result",
          "data": {
            "text/plain": [
              "        instant  season  yr  mnth  hr  holiday  weekday  workingday  \\\n",
              "3907   0.456735       2   0     6  17        0        4           1   \n",
              "15229  1.752740       4   1    10  18        0        1           1   \n",
              "15365  1.768265       4   1    10  10        0        0           0   \n",
              "13971  1.609132       3   1     8   8        0        5           1   \n",
              "16439  1.895091       4   1    11  17        1        4           0   \n",
              "...         ...     ...  ..   ...  ..      ...      ...         ...   \n",
              "8392   0.970776       1   0    12   8        0        3           1   \n",
              "15659  1.801826       4   1    10  16        0        5           1   \n",
              "6363   0.738927       4   0     9  17        0        2           1   \n",
              "13476  1.552626       3   1     7  17        0        5           1   \n",
              "11187  1.291324       2   1     4   8        1        1           0   \n",
              "\n",
              "       weathersit  temp  ...     mo     tu     we     th     fr     sa  \\\n",
              "3907            2  0.64  ...  False  False  False   True  False  False   \n",
              "15229           3  0.56  ...   True  False  False  False  False  False   \n",
              "15365           2  0.42  ...  False  False  False  False  False  False   \n",
              "13971           3  0.62  ...  False  False  False  False   True  False   \n",
              "16439           1  0.44  ...  False  False  False   True  False  False   \n",
              "...           ...   ...  ...    ...    ...    ...    ...    ...    ...   \n",
              "8392            3  0.36  ...  False  False   True  False  False  False   \n",
              "15659           3  0.62  ...  False  False  False  False   True  False   \n",
              "6363            2  0.66  ...  False   True  False  False  False  False   \n",
              "13476           2  0.66  ...  False  False  False  False   True  False   \n",
              "11187           2  0.56  ...   True  False  False  False  False  False   \n",
              "\n",
              "       commute    pred_cnt  act_cnt       error  \n",
              "3907      True  514.502869      272 -242.502869  \n",
              "15229     True  814.389160      613 -201.389160  \n",
              "15365    False  386.360413      185 -201.360413  \n",
              "13971     True  318.596527      119 -199.596527  \n",
              "16439     True  297.008514      109 -188.008514  \n",
              "...        ...         ...      ...         ...  \n",
              "8392      True  197.335007      405  207.664993  \n",
              "15659     True  332.068451      565  232.931549  \n",
              "6363      True  287.509766      530  242.490234  \n",
              "13476     True  414.005676      715  300.994324  \n",
              "11187     True  161.322632      597  435.677368  \n",
              "\n",
              "[716 rows x 25 columns]"
            ],
            "text/html": [
              "\n",
              "  <div id=\"df-0b080e66-31a8-477c-8a0f-38ecc8b97d87\" class=\"colab-df-container\">\n",
              "    <div>\n",
              "<style scoped>\n",
              "    .dataframe tbody tr th:only-of-type {\n",
              "        vertical-align: middle;\n",
              "    }\n",
              "\n",
              "    .dataframe tbody tr th {\n",
              "        vertical-align: top;\n",
              "    }\n",
              "\n",
              "    .dataframe thead th {\n",
              "        text-align: right;\n",
              "    }\n",
              "</style>\n",
              "<table border=\"1\" class=\"dataframe\">\n",
              "  <thead>\n",
              "    <tr style=\"text-align: right;\">\n",
              "      <th></th>\n",
              "      <th>instant</th>\n",
              "      <th>season</th>\n",
              "      <th>yr</th>\n",
              "      <th>mnth</th>\n",
              "      <th>hr</th>\n",
              "      <th>holiday</th>\n",
              "      <th>weekday</th>\n",
              "      <th>workingday</th>\n",
              "      <th>weathersit</th>\n",
              "      <th>temp</th>\n",
              "      <th>...</th>\n",
              "      <th>mo</th>\n",
              "      <th>tu</th>\n",
              "      <th>we</th>\n",
              "      <th>th</th>\n",
              "      <th>fr</th>\n",
              "      <th>sa</th>\n",
              "      <th>commute</th>\n",
              "      <th>pred_cnt</th>\n",
              "      <th>act_cnt</th>\n",
              "      <th>error</th>\n",
              "    </tr>\n",
              "  </thead>\n",
              "  <tbody>\n",
              "    <tr>\n",
              "      <th>3907</th>\n",
              "      <td>0.456735</td>\n",
              "      <td>2</td>\n",
              "      <td>0</td>\n",
              "      <td>6</td>\n",
              "      <td>17</td>\n",
              "      <td>0</td>\n",
              "      <td>4</td>\n",
              "      <td>1</td>\n",
              "      <td>2</td>\n",
              "      <td>0.64</td>\n",
              "      <td>...</td>\n",
              "      <td>False</td>\n",
              "      <td>False</td>\n",
              "      <td>False</td>\n",
              "      <td>True</td>\n",
              "      <td>False</td>\n",
              "      <td>False</td>\n",
              "      <td>True</td>\n",
              "      <td>514.502869</td>\n",
              "      <td>272</td>\n",
              "      <td>-242.502869</td>\n",
              "    </tr>\n",
              "    <tr>\n",
              "      <th>15229</th>\n",
              "      <td>1.752740</td>\n",
              "      <td>4</td>\n",
              "      <td>1</td>\n",
              "      <td>10</td>\n",
              "      <td>18</td>\n",
              "      <td>0</td>\n",
              "      <td>1</td>\n",
              "      <td>1</td>\n",
              "      <td>3</td>\n",
              "      <td>0.56</td>\n",
              "      <td>...</td>\n",
              "      <td>True</td>\n",
              "      <td>False</td>\n",
              "      <td>False</td>\n",
              "      <td>False</td>\n",
              "      <td>False</td>\n",
              "      <td>False</td>\n",
              "      <td>True</td>\n",
              "      <td>814.389160</td>\n",
              "      <td>613</td>\n",
              "      <td>-201.389160</td>\n",
              "    </tr>\n",
              "    <tr>\n",
              "      <th>15365</th>\n",
              "      <td>1.768265</td>\n",
              "      <td>4</td>\n",
              "      <td>1</td>\n",
              "      <td>10</td>\n",
              "      <td>10</td>\n",
              "      <td>0</td>\n",
              "      <td>0</td>\n",
              "      <td>0</td>\n",
              "      <td>2</td>\n",
              "      <td>0.42</td>\n",
              "      <td>...</td>\n",
              "      <td>False</td>\n",
              "      <td>False</td>\n",
              "      <td>False</td>\n",
              "      <td>False</td>\n",
              "      <td>False</td>\n",
              "      <td>False</td>\n",
              "      <td>False</td>\n",
              "      <td>386.360413</td>\n",
              "      <td>185</td>\n",
              "      <td>-201.360413</td>\n",
              "    </tr>\n",
              "    <tr>\n",
              "      <th>13971</th>\n",
              "      <td>1.609132</td>\n",
              "      <td>3</td>\n",
              "      <td>1</td>\n",
              "      <td>8</td>\n",
              "      <td>8</td>\n",
              "      <td>0</td>\n",
              "      <td>5</td>\n",
              "      <td>1</td>\n",
              "      <td>3</td>\n",
              "      <td>0.62</td>\n",
              "      <td>...</td>\n",
              "      <td>False</td>\n",
              "      <td>False</td>\n",
              "      <td>False</td>\n",
              "      <td>False</td>\n",
              "      <td>True</td>\n",
              "      <td>False</td>\n",
              "      <td>True</td>\n",
              "      <td>318.596527</td>\n",
              "      <td>119</td>\n",
              "      <td>-199.596527</td>\n",
              "    </tr>\n",
              "    <tr>\n",
              "      <th>16439</th>\n",
              "      <td>1.895091</td>\n",
              "      <td>4</td>\n",
              "      <td>1</td>\n",
              "      <td>11</td>\n",
              "      <td>17</td>\n",
              "      <td>1</td>\n",
              "      <td>4</td>\n",
              "      <td>0</td>\n",
              "      <td>1</td>\n",
              "      <td>0.44</td>\n",
              "      <td>...</td>\n",
              "      <td>False</td>\n",
              "      <td>False</td>\n",
              "      <td>False</td>\n",
              "      <td>True</td>\n",
              "      <td>False</td>\n",
              "      <td>False</td>\n",
              "      <td>True</td>\n",
              "      <td>297.008514</td>\n",
              "      <td>109</td>\n",
              "      <td>-188.008514</td>\n",
              "    </tr>\n",
              "    <tr>\n",
              "      <th>...</th>\n",
              "      <td>...</td>\n",
              "      <td>...</td>\n",
              "      <td>...</td>\n",
              "      <td>...</td>\n",
              "      <td>...</td>\n",
              "      <td>...</td>\n",
              "      <td>...</td>\n",
              "      <td>...</td>\n",
              "      <td>...</td>\n",
              "      <td>...</td>\n",
              "      <td>...</td>\n",
              "      <td>...</td>\n",
              "      <td>...</td>\n",
              "      <td>...</td>\n",
              "      <td>...</td>\n",
              "      <td>...</td>\n",
              "      <td>...</td>\n",
              "      <td>...</td>\n",
              "      <td>...</td>\n",
              "      <td>...</td>\n",
              "      <td>...</td>\n",
              "    </tr>\n",
              "    <tr>\n",
              "      <th>8392</th>\n",
              "      <td>0.970776</td>\n",
              "      <td>1</td>\n",
              "      <td>0</td>\n",
              "      <td>12</td>\n",
              "      <td>8</td>\n",
              "      <td>0</td>\n",
              "      <td>3</td>\n",
              "      <td>1</td>\n",
              "      <td>3</td>\n",
              "      <td>0.36</td>\n",
              "      <td>...</td>\n",
              "      <td>False</td>\n",
              "      <td>False</td>\n",
              "      <td>True</td>\n",
              "      <td>False</td>\n",
              "      <td>False</td>\n",
              "      <td>False</td>\n",
              "      <td>True</td>\n",
              "      <td>197.335007</td>\n",
              "      <td>405</td>\n",
              "      <td>207.664993</td>\n",
              "    </tr>\n",
              "    <tr>\n",
              "      <th>15659</th>\n",
              "      <td>1.801826</td>\n",
              "      <td>4</td>\n",
              "      <td>1</td>\n",
              "      <td>10</td>\n",
              "      <td>16</td>\n",
              "      <td>0</td>\n",
              "      <td>5</td>\n",
              "      <td>1</td>\n",
              "      <td>3</td>\n",
              "      <td>0.62</td>\n",
              "      <td>...</td>\n",
              "      <td>False</td>\n",
              "      <td>False</td>\n",
              "      <td>False</td>\n",
              "      <td>False</td>\n",
              "      <td>True</td>\n",
              "      <td>False</td>\n",
              "      <td>True</td>\n",
              "      <td>332.068451</td>\n",
              "      <td>565</td>\n",
              "      <td>232.931549</td>\n",
              "    </tr>\n",
              "    <tr>\n",
              "      <th>6363</th>\n",
              "      <td>0.738927</td>\n",
              "      <td>4</td>\n",
              "      <td>0</td>\n",
              "      <td>9</td>\n",
              "      <td>17</td>\n",
              "      <td>0</td>\n",
              "      <td>2</td>\n",
              "      <td>1</td>\n",
              "      <td>2</td>\n",
              "      <td>0.66</td>\n",
              "      <td>...</td>\n",
              "      <td>False</td>\n",
              "      <td>True</td>\n",
              "      <td>False</td>\n",
              "      <td>False</td>\n",
              "      <td>False</td>\n",
              "      <td>False</td>\n",
              "      <td>True</td>\n",
              "      <td>287.509766</td>\n",
              "      <td>530</td>\n",
              "      <td>242.490234</td>\n",
              "    </tr>\n",
              "    <tr>\n",
              "      <th>13476</th>\n",
              "      <td>1.552626</td>\n",
              "      <td>3</td>\n",
              "      <td>1</td>\n",
              "      <td>7</td>\n",
              "      <td>17</td>\n",
              "      <td>0</td>\n",
              "      <td>5</td>\n",
              "      <td>1</td>\n",
              "      <td>2</td>\n",
              "      <td>0.66</td>\n",
              "      <td>...</td>\n",
              "      <td>False</td>\n",
              "      <td>False</td>\n",
              "      <td>False</td>\n",
              "      <td>False</td>\n",
              "      <td>True</td>\n",
              "      <td>False</td>\n",
              "      <td>True</td>\n",
              "      <td>414.005676</td>\n",
              "      <td>715</td>\n",
              "      <td>300.994324</td>\n",
              "    </tr>\n",
              "    <tr>\n",
              "      <th>11187</th>\n",
              "      <td>1.291324</td>\n",
              "      <td>2</td>\n",
              "      <td>1</td>\n",
              "      <td>4</td>\n",
              "      <td>8</td>\n",
              "      <td>1</td>\n",
              "      <td>1</td>\n",
              "      <td>0</td>\n",
              "      <td>2</td>\n",
              "      <td>0.56</td>\n",
              "      <td>...</td>\n",
              "      <td>True</td>\n",
              "      <td>False</td>\n",
              "      <td>False</td>\n",
              "      <td>False</td>\n",
              "      <td>False</td>\n",
              "      <td>False</td>\n",
              "      <td>True</td>\n",
              "      <td>161.322632</td>\n",
              "      <td>597</td>\n",
              "      <td>435.677368</td>\n",
              "    </tr>\n",
              "  </tbody>\n",
              "</table>\n",
              "<p>716 rows × 25 columns</p>\n",
              "</div>\n",
              "    <div class=\"colab-df-buttons\">\n",
              "\n",
              "  <div class=\"colab-df-container\">\n",
              "    <button class=\"colab-df-convert\" onclick=\"convertToInteractive('df-0b080e66-31a8-477c-8a0f-38ecc8b97d87')\"\n",
              "            title=\"Convert this dataframe to an interactive table.\"\n",
              "            style=\"display:none;\">\n",
              "\n",
              "  <svg xmlns=\"http://www.w3.org/2000/svg\" height=\"24px\" viewBox=\"0 -960 960 960\">\n",
              "    <path d=\"M120-120v-720h720v720H120Zm60-500h600v-160H180v160Zm220 220h160v-160H400v160Zm0 220h160v-160H400v160ZM180-400h160v-160H180v160Zm440 0h160v-160H620v160ZM180-180h160v-160H180v160Zm440 0h160v-160H620v160Z\"/>\n",
              "  </svg>\n",
              "    </button>\n",
              "\n",
              "  <style>\n",
              "    .colab-df-container {\n",
              "      display:flex;\n",
              "      gap: 12px;\n",
              "    }\n",
              "\n",
              "    .colab-df-convert {\n",
              "      background-color: #E8F0FE;\n",
              "      border: none;\n",
              "      border-radius: 50%;\n",
              "      cursor: pointer;\n",
              "      display: none;\n",
              "      fill: #1967D2;\n",
              "      height: 32px;\n",
              "      padding: 0 0 0 0;\n",
              "      width: 32px;\n",
              "    }\n",
              "\n",
              "    .colab-df-convert:hover {\n",
              "      background-color: #E2EBFA;\n",
              "      box-shadow: 0px 1px 2px rgba(60, 64, 67, 0.3), 0px 1px 3px 1px rgba(60, 64, 67, 0.15);\n",
              "      fill: #174EA6;\n",
              "    }\n",
              "\n",
              "    .colab-df-buttons div {\n",
              "      margin-bottom: 4px;\n",
              "    }\n",
              "\n",
              "    [theme=dark] .colab-df-convert {\n",
              "      background-color: #3B4455;\n",
              "      fill: #D2E3FC;\n",
              "    }\n",
              "\n",
              "    [theme=dark] .colab-df-convert:hover {\n",
              "      background-color: #434B5C;\n",
              "      box-shadow: 0px 1px 3px 1px rgba(0, 0, 0, 0.15);\n",
              "      filter: drop-shadow(0px 1px 2px rgba(0, 0, 0, 0.3));\n",
              "      fill: #FFFFFF;\n",
              "    }\n",
              "  </style>\n",
              "\n",
              "    <script>\n",
              "      const buttonEl =\n",
              "        document.querySelector('#df-0b080e66-31a8-477c-8a0f-38ecc8b97d87 button.colab-df-convert');\n",
              "      buttonEl.style.display =\n",
              "        google.colab.kernel.accessAllowed ? 'block' : 'none';\n",
              "\n",
              "      async function convertToInteractive(key) {\n",
              "        const element = document.querySelector('#df-0b080e66-31a8-477c-8a0f-38ecc8b97d87');\n",
              "        const dataTable =\n",
              "          await google.colab.kernel.invokeFunction('convertToInteractive',\n",
              "                                                    [key], {});\n",
              "        if (!dataTable) return;\n",
              "\n",
              "        const docLinkHtml = 'Like what you see? Visit the ' +\n",
              "          '<a target=\"_blank\" href=https://colab.research.google.com/notebooks/data_table.ipynb>data table notebook</a>'\n",
              "          + ' to learn more about interactive tables.';\n",
              "        element.innerHTML = '';\n",
              "        dataTable['output_type'] = 'display_data';\n",
              "        await google.colab.output.renderOutput(dataTable, element);\n",
              "        const docLink = document.createElement('div');\n",
              "        docLink.innerHTML = docLinkHtml;\n",
              "        element.appendChild(docLink);\n",
              "      }\n",
              "    </script>\n",
              "  </div>\n",
              "\n",
              "\n",
              "<div id=\"df-93195fb4-b00a-4ee5-abf1-f4d72419c83a\">\n",
              "  <button class=\"colab-df-quickchart\" onclick=\"quickchart('df-93195fb4-b00a-4ee5-abf1-f4d72419c83a')\"\n",
              "            title=\"Suggest charts\"\n",
              "            style=\"display:none;\">\n",
              "\n",
              "<svg xmlns=\"http://www.w3.org/2000/svg\" height=\"24px\"viewBox=\"0 0 24 24\"\n",
              "     width=\"24px\">\n",
              "    <g>\n",
              "        <path d=\"M19 3H5c-1.1 0-2 .9-2 2v14c0 1.1.9 2 2 2h14c1.1 0 2-.9 2-2V5c0-1.1-.9-2-2-2zM9 17H7v-7h2v7zm4 0h-2V7h2v10zm4 0h-2v-4h2v4z\"/>\n",
              "    </g>\n",
              "</svg>\n",
              "  </button>\n",
              "\n",
              "<style>\n",
              "  .colab-df-quickchart {\n",
              "      --bg-color: #E8F0FE;\n",
              "      --fill-color: #1967D2;\n",
              "      --hover-bg-color: #E2EBFA;\n",
              "      --hover-fill-color: #174EA6;\n",
              "      --disabled-fill-color: #AAA;\n",
              "      --disabled-bg-color: #DDD;\n",
              "  }\n",
              "\n",
              "  [theme=dark] .colab-df-quickchart {\n",
              "      --bg-color: #3B4455;\n",
              "      --fill-color: #D2E3FC;\n",
              "      --hover-bg-color: #434B5C;\n",
              "      --hover-fill-color: #FFFFFF;\n",
              "      --disabled-bg-color: #3B4455;\n",
              "      --disabled-fill-color: #666;\n",
              "  }\n",
              "\n",
              "  .colab-df-quickchart {\n",
              "    background-color: var(--bg-color);\n",
              "    border: none;\n",
              "    border-radius: 50%;\n",
              "    cursor: pointer;\n",
              "    display: none;\n",
              "    fill: var(--fill-color);\n",
              "    height: 32px;\n",
              "    padding: 0;\n",
              "    width: 32px;\n",
              "  }\n",
              "\n",
              "  .colab-df-quickchart:hover {\n",
              "    background-color: var(--hover-bg-color);\n",
              "    box-shadow: 0 1px 2px rgba(60, 64, 67, 0.3), 0 1px 3px 1px rgba(60, 64, 67, 0.15);\n",
              "    fill: var(--button-hover-fill-color);\n",
              "  }\n",
              "\n",
              "  .colab-df-quickchart-complete:disabled,\n",
              "  .colab-df-quickchart-complete:disabled:hover {\n",
              "    background-color: var(--disabled-bg-color);\n",
              "    fill: var(--disabled-fill-color);\n",
              "    box-shadow: none;\n",
              "  }\n",
              "\n",
              "  .colab-df-spinner {\n",
              "    border: 2px solid var(--fill-color);\n",
              "    border-color: transparent;\n",
              "    border-bottom-color: var(--fill-color);\n",
              "    animation:\n",
              "      spin 1s steps(1) infinite;\n",
              "  }\n",
              "\n",
              "  @keyframes spin {\n",
              "    0% {\n",
              "      border-color: transparent;\n",
              "      border-bottom-color: var(--fill-color);\n",
              "      border-left-color: var(--fill-color);\n",
              "    }\n",
              "    20% {\n",
              "      border-color: transparent;\n",
              "      border-left-color: var(--fill-color);\n",
              "      border-top-color: var(--fill-color);\n",
              "    }\n",
              "    30% {\n",
              "      border-color: transparent;\n",
              "      border-left-color: var(--fill-color);\n",
              "      border-top-color: var(--fill-color);\n",
              "      border-right-color: var(--fill-color);\n",
              "    }\n",
              "    40% {\n",
              "      border-color: transparent;\n",
              "      border-right-color: var(--fill-color);\n",
              "      border-top-color: var(--fill-color);\n",
              "    }\n",
              "    60% {\n",
              "      border-color: transparent;\n",
              "      border-right-color: var(--fill-color);\n",
              "    }\n",
              "    80% {\n",
              "      border-color: transparent;\n",
              "      border-right-color: var(--fill-color);\n",
              "      border-bottom-color: var(--fill-color);\n",
              "    }\n",
              "    90% {\n",
              "      border-color: transparent;\n",
              "      border-bottom-color: var(--fill-color);\n",
              "    }\n",
              "  }\n",
              "</style>\n",
              "\n",
              "  <script>\n",
              "    async function quickchart(key) {\n",
              "      const quickchartButtonEl =\n",
              "        document.querySelector('#' + key + ' button');\n",
              "      quickchartButtonEl.disabled = true;  // To prevent multiple clicks.\n",
              "      quickchartButtonEl.classList.add('colab-df-spinner');\n",
              "      try {\n",
              "        const charts = await google.colab.kernel.invokeFunction(\n",
              "            'suggestCharts', [key], {});\n",
              "      } catch (error) {\n",
              "        console.error('Error during call to suggestCharts:', error);\n",
              "      }\n",
              "      quickchartButtonEl.classList.remove('colab-df-spinner');\n",
              "      quickchartButtonEl.classList.add('colab-df-quickchart-complete');\n",
              "    }\n",
              "    (() => {\n",
              "      let quickchartButtonEl =\n",
              "        document.querySelector('#df-93195fb4-b00a-4ee5-abf1-f4d72419c83a button');\n",
              "      quickchartButtonEl.style.display =\n",
              "        google.colab.kernel.accessAllowed ? 'block' : 'none';\n",
              "    })();\n",
              "  </script>\n",
              "</div>\n",
              "\n",
              "    </div>\n",
              "  </div>\n"
            ],
            "application/vnd.google.colaboratory.intrinsic+json": {
              "type": "dataframe"
            }
          },
          "metadata": {},
          "execution_count": 23
        }
      ],
      "execution_count": 23
    },
    {
      "cell_type": "markdown",
      "source": [
        "# Discussion\n",
        "\n",
        "Linear regression is a low-flexibility approach because its effectiveness relies heavily on the nature of the relationship between the response variable and the features included in the model. When regression is performed on features that have linear relationships with the target variable, then the resulting model will not tend to give accurate predictions. In this situation, transformations of those features might result in linear relationships (e.g., the Fourier features we introduced), and regression on the transformed features might be able to give more accurate predictions. However, this process can take careful engineering that is highly dependent on the context of the modeling task.\n",
        "\n",
        "In contrast, random forests and related models like `XGBoost` offer a more flexible approach in the sense that these ensemble methods make very few assumptions about the structure of the data under consideration. In principle, each decision tree in a random forest or `XGBoost` model can be constructed to fit training data perfectly. Likewise, when multiple decision trees are combined in a single model, the fit between the resulting model and the training data can be arbirarily close, and this closeness of fit is achievable without any data preprocessing or feature engineering that is often necessary in successful applications of linear regression.\n",
        "\n",
        "Due to the difference in flexibility, one would expect to see a tendency toward higher bias and lower variance in linear regression models and toward lower bias and higher variance in models based on random forests. This tradeoff turns out to be observable in the models we have built for this project. The following cell removes a holdout row from the original data set and proceeds to fit `ols_model` and `xgb_model` on 100 different training splits. Predictions for `cnt` in the holdout row are made based on each fitting of the models, and summary statistics for the predictions are shown."
      ],
      "metadata": {
        "_uuid": "e67e827b-4dbc-4f7b-86cf-370365bf6595",
        "_cell_guid": "ce07d0d8-8a7a-4ee6-be81-8fa47b5636dc",
        "trusted": true,
        "collapsed": false,
        "jupyter": {
          "outputs_hidden": false
        },
        "id": "uDhekzo-ARRD"
      }
    },
    {
      "cell_type": "code",
      "source": [
        "# create seasonal features for entire data set\n",
        "data[\"yrly1\"] = np.sin(2*np.pi*data[\"instant\"])\n",
        "data[\"yrly2\"] = np.cos(2*np.pi*data[\"instant\"])\n",
        "data[\"daily1\"] = np.sin(2*np.pi*365*data[\"instant\"])\n",
        "data[\"daily2\"] = np.cos(2*np.pi*365*data[\"instant\"])\n",
        "data[\"mo\"] = data[\"weekday\"] == 1\n",
        "data[\"tu\"] = data[\"weekday\"] == 2\n",
        "data[\"we\"] = data[\"weekday\"] == 3\n",
        "data[\"th\"] = data[\"weekday\"] == 4\n",
        "data[\"fr\"] = data[\"weekday\"] == 5\n",
        "data[\"sa\"] = data[\"weekday\"] == 6\n",
        "data[\"commute\"] = data[\"hr\"].isin([8,16,17,18])\n",
        "\n",
        "# hold out one row of data\n",
        "data, holdout = train_test_split(data, test_size = 1)\n",
        "# prepare training data for xgb\n",
        "holdout_xgb = holdout.drop(\n",
        "    [\"yrly1\", \"daily2\", \"daily1\", \"cnt\", \"yrly2\"],\n",
        "    axis = 1\n",
        ")\n",
        "\n",
        "# initialize lists to store predictions\n",
        "ols_predictions = []\n",
        "xgb_predictions = []\n",
        "\n",
        "# fit models on 100 training splits\n",
        "for i in range(100):\n",
        "    # split off a training set\n",
        "    data_train, _ = train_test_split(data, test_size = 0.2)\n",
        "\n",
        "    # generate a prediction for the holdout row using ols_model\n",
        "    ols_model = smf.ols(\n",
        "        \"\"\"\n",
        "            cnt ~ instant + yrly1 + yrly2 + daily1 +\n",
        "                  daily2 + mo + tu + we + th + fr + sa +\n",
        "                  commute + holiday + weathersit +\n",
        "                  atemp + hum + windspeed\n",
        "        \"\"\",\n",
        "        data = data_train\n",
        "    ).fit()\n",
        "    ols_pred = ols_model.predict(holdout)\n",
        "\n",
        "    # prepare training data for XGBoost\n",
        "    y_train = data_train[\"cnt\"]\n",
        "    X_train = data_train.drop(\n",
        "        [\"yrly1\", \"yrly2\", \"daily1\", \"daily2\", \"cnt\"],\n",
        "        axis = 1\n",
        "    )\n",
        "\n",
        "    # generate a prediction for the holdout row using xgb_model\n",
        "    xgb_model = XGBRegressor(\n",
        "        learning_rate = best_xgb[\"learning_rate\"],\n",
        "        max_depth = best_xgb[\"max_depth\"]\n",
        "    )\n",
        "    xgb_model.fit(X_train, y_train)\n",
        "    xgb_pred = xgb_model.predict(holdout_xgb)\n",
        "\n",
        "    # record predcitions\n",
        "    ols_predictions.append(ols_pred.iloc[0])\n",
        "    xgb_predictions.append(xgb_pred[0])\n",
        "\n",
        "# compute summary statistics\n",
        "act_cnt = holdout['cnt'].iloc[0]\n",
        "ols_mean = np.mean(ols_predictions)\n",
        "xgb_mean = np.mean(xgb_predictions)\n",
        "ols_var = np.var(ols_predictions)\n",
        "xgb_var = np.var(xgb_predictions)\n",
        "print(f\"Actual cnt value for holdout: {holdout['cnt'].iloc[0]}\")\n",
        "print(f\"Mean prediction error for ols_model: {act_cnt - ols_mean}\")\n",
        "print(f\"Mean prediction error for xgb_model: {act_cnt - xgb_mean}\")\n",
        "print(f\"Prediction variance for ols_model: {ols_var}\")\n",
        "print(f\"Prediction variance for xgb_model: {xgb_var}\")"
      ],
      "metadata": {
        "_uuid": "38544b96-ede9-4c91-a546-31559ffc99a0",
        "_cell_guid": "8627cb69-7c0b-4523-92e9-6f49370bef21",
        "trusted": true,
        "execution": {
          "iopub.status.busy": "2024-12-07T08:06:32.483263Z",
          "iopub.execute_input": "2024-12-07T08:06:32.483603Z",
          "iopub.status.idle": "2024-12-07T08:07:29.929832Z",
          "shell.execute_reply.started": "2024-12-07T08:06:32.483572Z",
          "shell.execute_reply": "2024-12-07T08:07:29.926874Z"
        },
        "jupyter": {
          "outputs_hidden": false
        },
        "colab": {
          "base_uri": "https://localhost:8080/"
        },
        "id": "2NKfjlkWARRD",
        "outputId": "6e17f740-4607-4989-99b9-1a90cce93f77"
      },
      "outputs": [
        {
          "output_type": "stream",
          "name": "stdout",
          "text": [
            "Actual cnt value for holdout: 236\n",
            "Mean prediction error for ols_model: -165.41108480482\n",
            "Mean prediction error for xgb_model: -13.520156860351562\n",
            "Prediction variance for ols_model: 3.496237379733625\n",
            "Prediction variance for xgb_model: 60.44398498535156\n"
          ]
        }
      ],
      "execution_count": 25
    },
    {
      "cell_type": "markdown",
      "source": [
        "As expected, the mean prediction error on the holdout row for `ols_model` was significantly higher in absolute value than the mean prediction error for `xgb_model`, but `ols_model` had lower variance among its predictions compared to `xbg_model`. In other words, `ols_model` was less accurate but more consistent than `xgb_model`.\n",
        "\n",
        "Accuracy and consistency are both characteristics of useful models, corresponding to low bias and low variance. For the `XGBoost` model, many predictions tend to be accurate on average, but any single prediction is relatively sensitive to the training data used to fit the model. For linear regression, predictions are not particularly accurate on average, although any single prediction is unlikely to change much in response to resampling the training data. To compare the two sides of this tradeoff between bias and variance, one can consider the mean squared prediction error on a large test set. In this case, `xgb_model` had a mean squared prediction error about one order of magnitude lower than `ols_model`. This indicates that, even though any single prediction by `xgb_model` is not very reliable, the low bias observed in `xgb_model` more than makes up for its high variance when compared to `ols_model`. Therefore, `XGBoost` gave the best performing model in this project.\n",
        "\n",
        "Further improvements are likely possible. Besides the commute and weekday indicators, we used none of the engineered features in training the ensemble models that we used for the linear regression model. We did this because, in principle, ensemble models are capable of detecting nonlinear relationships like the one present between the target variable and time dummy. Even so, incorporating Fourier features or other engineered features into random forests or `XGBoost` models might lead to better performance. Likewise, exploring nonlinear relationsihps among the non-temporal features and from them engineering new features with linear relationships to `cnt` might, in principle, improve the performance of linear regression. These would be interesting avenues to pursue with further research."
      ],
      "metadata": {
        "_uuid": "570ba733-2bdd-48b2-9a19-860d96999c71",
        "_cell_guid": "09dc7311-35bd-4e89-888b-386fa1801ae4",
        "trusted": true,
        "collapsed": false,
        "jupyter": {
          "outputs_hidden": false
        },
        "id": "Tj02C1MMARRD"
      }
    }
  ]
}